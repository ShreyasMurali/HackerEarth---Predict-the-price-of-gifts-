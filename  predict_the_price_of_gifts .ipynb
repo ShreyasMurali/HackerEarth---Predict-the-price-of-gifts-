{
 "cells": [
  {
   "cell_type": "code",
   "execution_count": 63,
   "metadata": {},
   "outputs": [],
   "source": [
    "# Import Dependencies\n",
    "%matplotlib inline\n",
    "\n",
    "# Start Python Imports\n",
    "import math, time, random, datetime\n",
    "\n",
    "# Data Manipulation\n",
    "import numpy as np\n",
    "import pandas as pd\n",
    "\n",
    "# Visualization \n",
    "import matplotlib.pyplot as plt\n",
    "import missingno\n",
    "import seaborn as sns\n",
    "plt.style.use('seaborn-whitegrid')\n",
    "\n",
    "# Let's be rebels and ignore warnings for now\n",
    "import warnings\n",
    "warnings.filterwarnings('ignore')\n"
   ]
  },
  {
   "cell_type": "markdown",
   "metadata": {},
   "source": [
    "### Loading in the data\n",
    "\n",
    "After we've downloaded the data, we need to get it into the notebook.\n",
    "\n",
    "I've stored my downloaded data in a file called `Dataset`."
   ]
  },
  {
   "cell_type": "code",
   "execution_count": 64,
   "metadata": {},
   "outputs": [],
   "source": [
    "# Import train & test data \n",
    "train = pd.read_csv('dataset/train.csv')\n",
    "test = pd.read_csv('dataset/test.csv')\n"
   ]
  },
  {
   "cell_type": "code",
   "execution_count": 65,
   "metadata": {},
   "outputs": [
    {
     "data": {
      "text/html": [
       "<div>\n",
       "<style scoped>\n",
       "    .dataframe tbody tr th:only-of-type {\n",
       "        vertical-align: middle;\n",
       "    }\n",
       "\n",
       "    .dataframe tbody tr th {\n",
       "        vertical-align: top;\n",
       "    }\n",
       "\n",
       "    .dataframe thead th {\n",
       "        text-align: right;\n",
       "    }\n",
       "</style>\n",
       "<table border=\"1\" class=\"dataframe\">\n",
       "  <thead>\n",
       "    <tr style=\"text-align: right;\">\n",
       "      <th></th>\n",
       "      <th>gift_id</th>\n",
       "      <th>gift_type</th>\n",
       "      <th>gift_category</th>\n",
       "      <th>gift_cluster</th>\n",
       "      <th>instock_date</th>\n",
       "      <th>stock_update_date</th>\n",
       "      <th>lsg_1</th>\n",
       "      <th>lsg_2</th>\n",
       "      <th>lsg_3</th>\n",
       "      <th>lsg_4</th>\n",
       "      <th>lsg_5</th>\n",
       "      <th>lsg_6</th>\n",
       "      <th>uk_date1</th>\n",
       "      <th>uk_date2</th>\n",
       "      <th>is_discounted</th>\n",
       "      <th>volumes</th>\n",
       "      <th>price</th>\n",
       "    </tr>\n",
       "  </thead>\n",
       "  <tbody>\n",
       "    <tr>\n",
       "      <th>0</th>\n",
       "      <td>GF_11156</td>\n",
       "      <td>61</td>\n",
       "      <td>534</td>\n",
       "      <td>3942</td>\n",
       "      <td>2014-02-21 05:07:06.000</td>\n",
       "      <td>2016-11-09 15:49:51.000</td>\n",
       "      <td>3377</td>\n",
       "      <td>5221</td>\n",
       "      <td>504</td>\n",
       "      <td>1912</td>\n",
       "      <td>10</td>\n",
       "      <td>554</td>\n",
       "      <td>2014-02-24 08:07:06.000</td>\n",
       "      <td>2014-02-24 07:07:06.000</td>\n",
       "      <td>0</td>\n",
       "      <td>NaN</td>\n",
       "      <td>175.54</td>\n",
       "    </tr>\n",
       "    <tr>\n",
       "      <th>1</th>\n",
       "      <td>GF_11157</td>\n",
       "      <td>61</td>\n",
       "      <td>534</td>\n",
       "      <td>3942</td>\n",
       "      <td>2014-02-21 06:07:06.000</td>\n",
       "      <td>2016-11-11 13:49:51.000</td>\n",
       "      <td>3377</td>\n",
       "      <td>5221</td>\n",
       "      <td>504</td>\n",
       "      <td>1912</td>\n",
       "      <td>10</td>\n",
       "      <td>554</td>\n",
       "      <td>2014-02-22 07:07:06.000</td>\n",
       "      <td>2014-02-24 06:07:06.000</td>\n",
       "      <td>1</td>\n",
       "      <td>NaN</td>\n",
       "      <td>95.80</td>\n",
       "    </tr>\n",
       "    <tr>\n",
       "      <th>2</th>\n",
       "      <td>GF_15689</td>\n",
       "      <td>584</td>\n",
       "      <td>262</td>\n",
       "      <td>0</td>\n",
       "      <td>2014-02-21 09:30:21.000</td>\n",
       "      <td>2016-03-24 14:46:18.000</td>\n",
       "      <td>5290</td>\n",
       "      <td>1579</td>\n",
       "      <td>3203</td>\n",
       "      <td>1912</td>\n",
       "      <td>9</td>\n",
       "      <td>1578</td>\n",
       "      <td>2016-01-26 00:04:45.000</td>\n",
       "      <td>2016-03-18 02:00:00.000</td>\n",
       "      <td>1</td>\n",
       "      <td>NaN</td>\n",
       "      <td>107.35</td>\n",
       "    </tr>\n",
       "    <tr>\n",
       "      <th>3</th>\n",
       "      <td>GF_11155</td>\n",
       "      <td>61</td>\n",
       "      <td>534</td>\n",
       "      <td>3942</td>\n",
       "      <td>2014-02-22 05:07:06.000</td>\n",
       "      <td>2016-11-10 16:49:51.000</td>\n",
       "      <td>3377</td>\n",
       "      <td>5221</td>\n",
       "      <td>504</td>\n",
       "      <td>1912</td>\n",
       "      <td>10</td>\n",
       "      <td>554</td>\n",
       "      <td>2016-11-07 13:49:51.000</td>\n",
       "      <td>2016-11-06 04:00:00.000</td>\n",
       "      <td>0</td>\n",
       "      <td>NaN</td>\n",
       "      <td>172.90</td>\n",
       "    </tr>\n",
       "    <tr>\n",
       "      <th>4</th>\n",
       "      <td>GF_11158</td>\n",
       "      <td>61</td>\n",
       "      <td>534</td>\n",
       "      <td>3942</td>\n",
       "      <td>2014-02-22 07:07:06.000</td>\n",
       "      <td>2016-11-10 13:49:51.000</td>\n",
       "      <td>3377</td>\n",
       "      <td>5221</td>\n",
       "      <td>504</td>\n",
       "      <td>1912</td>\n",
       "      <td>9</td>\n",
       "      <td>554</td>\n",
       "      <td>2016-11-07 15:49:51.000</td>\n",
       "      <td>2016-11-06 01:00:00.000</td>\n",
       "      <td>1</td>\n",
       "      <td>NaN</td>\n",
       "      <td>77.72</td>\n",
       "    </tr>\n",
       "  </tbody>\n",
       "</table>\n",
       "</div>"
      ],
      "text/plain": [
       "    gift_id  gift_type  gift_category  gift_cluster             instock_date  \\\n",
       "0  GF_11156         61            534          3942  2014-02-21 05:07:06.000   \n",
       "1  GF_11157         61            534          3942  2014-02-21 06:07:06.000   \n",
       "2  GF_15689        584            262             0  2014-02-21 09:30:21.000   \n",
       "3  GF_11155         61            534          3942  2014-02-22 05:07:06.000   \n",
       "4  GF_11158         61            534          3942  2014-02-22 07:07:06.000   \n",
       "\n",
       "         stock_update_date  lsg_1  lsg_2  lsg_3  lsg_4  lsg_5  lsg_6  \\\n",
       "0  2016-11-09 15:49:51.000   3377   5221    504   1912     10    554   \n",
       "1  2016-11-11 13:49:51.000   3377   5221    504   1912     10    554   \n",
       "2  2016-03-24 14:46:18.000   5290   1579   3203   1912      9   1578   \n",
       "3  2016-11-10 16:49:51.000   3377   5221    504   1912     10    554   \n",
       "4  2016-11-10 13:49:51.000   3377   5221    504   1912      9    554   \n",
       "\n",
       "                  uk_date1                 uk_date2  is_discounted  volumes  \\\n",
       "0  2014-02-24 08:07:06.000  2014-02-24 07:07:06.000              0      NaN   \n",
       "1  2014-02-22 07:07:06.000  2014-02-24 06:07:06.000              1      NaN   \n",
       "2  2016-01-26 00:04:45.000  2016-03-18 02:00:00.000              1      NaN   \n",
       "3  2016-11-07 13:49:51.000  2016-11-06 04:00:00.000              0      NaN   \n",
       "4  2016-11-07 15:49:51.000  2016-11-06 01:00:00.000              1      NaN   \n",
       "\n",
       "    price  \n",
       "0  175.54  \n",
       "1   95.80  \n",
       "2  107.35  \n",
       "3  172.90  \n",
       "4   77.72  "
      ]
     },
     "execution_count": 65,
     "metadata": {},
     "output_type": "execute_result"
    }
   ],
   "source": [
    "# View the training data\n",
    "train.head()"
   ]
  },
  {
   "cell_type": "code",
   "execution_count": 66,
   "metadata": {},
   "outputs": [
    {
     "data": {
      "text/html": [
       "<div>\n",
       "<style scoped>\n",
       "    .dataframe tbody tr th:only-of-type {\n",
       "        vertical-align: middle;\n",
       "    }\n",
       "\n",
       "    .dataframe tbody tr th {\n",
       "        vertical-align: top;\n",
       "    }\n",
       "\n",
       "    .dataframe thead th {\n",
       "        text-align: right;\n",
       "    }\n",
       "</style>\n",
       "<table border=\"1\" class=\"dataframe\">\n",
       "  <thead>\n",
       "    <tr style=\"text-align: right;\">\n",
       "      <th></th>\n",
       "      <th>gift_id</th>\n",
       "      <th>gift_type</th>\n",
       "      <th>gift_category</th>\n",
       "      <th>gift_cluster</th>\n",
       "      <th>instock_date</th>\n",
       "      <th>stock_update_date</th>\n",
       "      <th>lsg_1</th>\n",
       "      <th>lsg_2</th>\n",
       "      <th>lsg_3</th>\n",
       "      <th>lsg_4</th>\n",
       "      <th>lsg_5</th>\n",
       "      <th>lsg_6</th>\n",
       "      <th>uk_date1</th>\n",
       "      <th>uk_date2</th>\n",
       "      <th>is_discounted</th>\n",
       "      <th>volumes</th>\n",
       "      <th>price</th>\n",
       "    </tr>\n",
       "  </thead>\n",
       "  <tbody>\n",
       "    <tr>\n",
       "      <th>12</th>\n",
       "      <td>GF_519</td>\n",
       "      <td>168</td>\n",
       "      <td>403</td>\n",
       "      <td>1846</td>\n",
       "      <td>2014-10-15 22:59:24.000</td>\n",
       "      <td>2017-04-03 15:40:33.000</td>\n",
       "      <td>3799</td>\n",
       "      <td>3358</td>\n",
       "      <td>1230</td>\n",
       "      <td>51</td>\n",
       "      <td>9</td>\n",
       "      <td>327</td>\n",
       "      <td>2017-03-31 12:40:33.000</td>\n",
       "      <td>2017-03-26 12:25:37.484</td>\n",
       "      <td>0</td>\n",
       "      <td>25.0</td>\n",
       "      <td>176.69</td>\n",
       "    </tr>\n",
       "  </tbody>\n",
       "</table>\n",
       "</div>"
      ],
      "text/plain": [
       "   gift_id  gift_type  gift_category  gift_cluster             instock_date  \\\n",
       "12  GF_519        168            403          1846  2014-10-15 22:59:24.000   \n",
       "\n",
       "          stock_update_date  lsg_1  lsg_2  lsg_3  lsg_4  lsg_5  lsg_6  \\\n",
       "12  2017-04-03 15:40:33.000   3799   3358   1230     51      9    327   \n",
       "\n",
       "                   uk_date1                 uk_date2  is_discounted  volumes  \\\n",
       "12  2017-03-31 12:40:33.000  2017-03-26 12:25:37.484              0     25.0   \n",
       "\n",
       "     price  \n",
       "12  176.69  "
      ]
     },
     "execution_count": 66,
     "metadata": {},
     "output_type": "execute_result"
    }
   ],
   "source": [
    "train.loc[train['gift_id']=='GF_519']"
   ]
  },
  {
   "cell_type": "code",
   "execution_count": 67,
   "metadata": {},
   "outputs": [
    {
     "data": {
      "text/plain": [
       "Index(['gift_id', 'gift_type', 'gift_category', 'gift_cluster', 'instock_date',\n",
       "       'stock_update_date', 'lsg_1', 'lsg_2', 'lsg_3', 'lsg_4', 'lsg_5',\n",
       "       'lsg_6', 'uk_date1', 'uk_date2', 'is_discounted', 'volumes', 'price'],\n",
       "      dtype='object')"
      ]
     },
     "execution_count": 67,
     "metadata": {},
     "output_type": "execute_result"
    }
   ],
   "source": [
    "# View the training data columns\n",
    "train.columns"
   ]
  },
  {
   "cell_type": "code",
   "execution_count": 68,
   "metadata": {
    "scrolled": true
   },
   "outputs": [
    {
     "data": {
      "text/plain": [
       "(20279, 17)"
      ]
     },
     "execution_count": 68,
     "metadata": {},
     "output_type": "execute_result"
    }
   ],
   "source": [
    "# View the training data shape\n",
    "train.shape"
   ]
  },
  {
   "cell_type": "code",
   "execution_count": 69,
   "metadata": {
    "scrolled": true
   },
   "outputs": [
    {
     "name": "stdout",
     "output_type": "stream",
     "text": [
      "<class 'pandas.core.frame.DataFrame'>\n",
      "RangeIndex: 20279 entries, 0 to 20278\n",
      "Data columns (total 17 columns):\n",
      " #   Column             Non-Null Count  Dtype  \n",
      "---  ------             --------------  -----  \n",
      " 0   gift_id            20279 non-null  object \n",
      " 1   gift_type          20279 non-null  int64  \n",
      " 2   gift_category      20279 non-null  int64  \n",
      " 3   gift_cluster       20279 non-null  int64  \n",
      " 4   instock_date       20279 non-null  object \n",
      " 5   stock_update_date  20279 non-null  object \n",
      " 6   lsg_1              20279 non-null  int64  \n",
      " 7   lsg_2              20279 non-null  int64  \n",
      " 8   lsg_3              20279 non-null  int64  \n",
      " 9   lsg_4              20279 non-null  int64  \n",
      " 10  lsg_5              20279 non-null  int64  \n",
      " 11  lsg_6              20279 non-null  int64  \n",
      " 12  uk_date1           20279 non-null  object \n",
      " 13  uk_date2           20279 non-null  object \n",
      " 14  is_discounted      20279 non-null  int64  \n",
      " 15  volumes            7323 non-null   float64\n",
      " 16  price              20279 non-null  float64\n",
      "dtypes: float64(2), int64(10), object(5)\n",
      "memory usage: 2.6+ MB\n"
     ]
    }
   ],
   "source": [
    "train.info()"
   ]
  },
  {
   "cell_type": "code",
   "execution_count": 70,
   "metadata": {},
   "outputs": [
    {
     "data": {
      "text/html": [
       "<div>\n",
       "<style scoped>\n",
       "    .dataframe tbody tr th:only-of-type {\n",
       "        vertical-align: middle;\n",
       "    }\n",
       "\n",
       "    .dataframe tbody tr th {\n",
       "        vertical-align: top;\n",
       "    }\n",
       "\n",
       "    .dataframe thead th {\n",
       "        text-align: right;\n",
       "    }\n",
       "</style>\n",
       "<table border=\"1\" class=\"dataframe\">\n",
       "  <thead>\n",
       "    <tr style=\"text-align: right;\">\n",
       "      <th></th>\n",
       "      <th>gift_id</th>\n",
       "      <th>gift_type</th>\n",
       "      <th>gift_category</th>\n",
       "      <th>gift_cluster</th>\n",
       "      <th>instock_date</th>\n",
       "      <th>stock_update_date</th>\n",
       "      <th>lsg_1</th>\n",
       "      <th>lsg_2</th>\n",
       "      <th>lsg_3</th>\n",
       "      <th>lsg_4</th>\n",
       "      <th>lsg_5</th>\n",
       "      <th>lsg_6</th>\n",
       "      <th>uk_date1</th>\n",
       "      <th>uk_date2</th>\n",
       "      <th>is_discounted</th>\n",
       "      <th>volumes</th>\n",
       "    </tr>\n",
       "  </thead>\n",
       "  <tbody>\n",
       "    <tr>\n",
       "      <th>0</th>\n",
       "      <td>GF_2372</td>\n",
       "      <td>842</td>\n",
       "      <td>663</td>\n",
       "      <td>24</td>\n",
       "      <td>2016-11-12 13:49:12.000</td>\n",
       "      <td>2016-11-16 10:49:12.000</td>\n",
       "      <td>203</td>\n",
       "      <td>1334</td>\n",
       "      <td>4358</td>\n",
       "      <td>1912</td>\n",
       "      <td>10</td>\n",
       "      <td>1899</td>\n",
       "      <td>2016-11-16 12:49:12.000</td>\n",
       "      <td>2016-11-13 04:00:00.000</td>\n",
       "      <td>0</td>\n",
       "      <td>NaN</td>\n",
       "    </tr>\n",
       "    <tr>\n",
       "      <th>1</th>\n",
       "      <td>GF_13040</td>\n",
       "      <td>407</td>\n",
       "      <td>534</td>\n",
       "      <td>754</td>\n",
       "      <td>2016-11-12 13:49:22.000</td>\n",
       "      <td>2016-11-17 14:49:22.000</td>\n",
       "      <td>4785</td>\n",
       "      <td>5940</td>\n",
       "      <td>2582</td>\n",
       "      <td>1912</td>\n",
       "      <td>10</td>\n",
       "      <td>1488</td>\n",
       "      <td>2016-11-12 14:49:22.000</td>\n",
       "      <td>2016-11-03 01:00:00.000</td>\n",
       "      <td>0</td>\n",
       "      <td>NaN</td>\n",
       "    </tr>\n",
       "    <tr>\n",
       "      <th>2</th>\n",
       "      <td>GF_5754</td>\n",
       "      <td>631</td>\n",
       "      <td>433</td>\n",
       "      <td>6012</td>\n",
       "      <td>2016-11-12 13:49:23.000</td>\n",
       "      <td>2016-11-16 13:49:23.000</td>\n",
       "      <td>1812</td>\n",
       "      <td>5027</td>\n",
       "      <td>3427</td>\n",
       "      <td>1912</td>\n",
       "      <td>10</td>\n",
       "      <td>1913</td>\n",
       "      <td>2016-11-15 11:49:23.000</td>\n",
       "      <td>2016-11-01 05:00:00.000</td>\n",
       "      <td>1</td>\n",
       "      <td>NaN</td>\n",
       "    </tr>\n",
       "    <tr>\n",
       "      <th>3</th>\n",
       "      <td>GF_1417</td>\n",
       "      <td>992</td>\n",
       "      <td>433</td>\n",
       "      <td>6358</td>\n",
       "      <td>2016-11-12 13:49:24.000</td>\n",
       "      <td>2016-11-16 11:49:24.000</td>\n",
       "      <td>2002</td>\n",
       "      <td>6883</td>\n",
       "      <td>5537</td>\n",
       "      <td>1912</td>\n",
       "      <td>10</td>\n",
       "      <td>1734</td>\n",
       "      <td>2016-11-14 12:49:24.000</td>\n",
       "      <td>2016-11-04 04:00:00.000</td>\n",
       "      <td>0</td>\n",
       "      <td>NaN</td>\n",
       "    </tr>\n",
       "    <tr>\n",
       "      <th>4</th>\n",
       "      <td>GF_23204</td>\n",
       "      <td>43</td>\n",
       "      <td>534</td>\n",
       "      <td>6123</td>\n",
       "      <td>2016-11-12 13:49:40.000</td>\n",
       "      <td>2016-11-18 11:49:40.000</td>\n",
       "      <td>1512</td>\n",
       "      <td>6883</td>\n",
       "      <td>610</td>\n",
       "      <td>1912</td>\n",
       "      <td>9</td>\n",
       "      <td>150</td>\n",
       "      <td>2016-11-14 10:49:40.000</td>\n",
       "      <td>2016-11-02 01:00:00.000</td>\n",
       "      <td>1</td>\n",
       "      <td>NaN</td>\n",
       "    </tr>\n",
       "  </tbody>\n",
       "</table>\n",
       "</div>"
      ],
      "text/plain": [
       "    gift_id  gift_type  gift_category  gift_cluster             instock_date  \\\n",
       "0   GF_2372        842            663            24  2016-11-12 13:49:12.000   \n",
       "1  GF_13040        407            534           754  2016-11-12 13:49:22.000   \n",
       "2   GF_5754        631            433          6012  2016-11-12 13:49:23.000   \n",
       "3   GF_1417        992            433          6358  2016-11-12 13:49:24.000   \n",
       "4  GF_23204         43            534          6123  2016-11-12 13:49:40.000   \n",
       "\n",
       "         stock_update_date  lsg_1  lsg_2  lsg_3  lsg_4  lsg_5  lsg_6  \\\n",
       "0  2016-11-16 10:49:12.000    203   1334   4358   1912     10   1899   \n",
       "1  2016-11-17 14:49:22.000   4785   5940   2582   1912     10   1488   \n",
       "2  2016-11-16 13:49:23.000   1812   5027   3427   1912     10   1913   \n",
       "3  2016-11-16 11:49:24.000   2002   6883   5537   1912     10   1734   \n",
       "4  2016-11-18 11:49:40.000   1512   6883    610   1912      9    150   \n",
       "\n",
       "                  uk_date1                 uk_date2  is_discounted  volumes  \n",
       "0  2016-11-16 12:49:12.000  2016-11-13 04:00:00.000              0      NaN  \n",
       "1  2016-11-12 14:49:22.000  2016-11-03 01:00:00.000              0      NaN  \n",
       "2  2016-11-15 11:49:23.000  2016-11-01 05:00:00.000              1      NaN  \n",
       "3  2016-11-14 12:49:24.000  2016-11-04 04:00:00.000              0      NaN  \n",
       "4  2016-11-14 10:49:40.000  2016-11-02 01:00:00.000              1      NaN  "
      ]
     },
     "execution_count": 70,
     "metadata": {},
     "output_type": "execute_result"
    }
   ],
   "source": [
    "# View the test data (same columns as the training data)\n",
    "test.head() # head = view first 5 lines"
   ]
  },
  {
   "cell_type": "markdown",
   "metadata": {},
   "source": [
    "## What missing values are there?\n",
    "\n",
    "Where are the holes in our data?\n",
    "\n",
    "These are rows which are missing a value or have NaN instead of something like the rest of the column."
   ]
  },
  {
   "cell_type": "code",
   "execution_count": 71,
   "metadata": {},
   "outputs": [
    {
     "data": {
      "text/plain": [
       "<matplotlib.axes._subplots.AxesSubplot at 0x2c9374e1208>"
      ]
     },
     "execution_count": 71,
     "metadata": {},
     "output_type": "execute_result"
    },
    {
     "data": {
      "image/png": "[encoded data removed]",
      "text/plain": [
       "<Figure size 2160x720 with 2 Axes>"
      ]
     },
     "metadata": {},
     "output_type": "display_data"
    }
   ],
   "source": [
    "# Plot graphic of missing values for train data\n",
    "missingno.matrix(train, figsize = (30,10))"
   ]
  },
  {
   "cell_type": "markdown",
   "metadata": {},
   "source": [
    "Ok we can clearly see some missing values here in X_12 cabin column.\n",
    "\n",
    "It's important to visualise missing values early so you know where the major holes are in your dataset.\n",
    "\n",
    "Knowing this informaiton will help with your EDA and figuring out what kind of data cleaning and preprocessing is needed."
   ]
  },
  {
   "cell_type": "code",
   "execution_count": 72,
   "metadata": {
    "scrolled": false
   },
   "outputs": [
    {
     "data": {
      "text/plain": [
       "gift_id                  0\n",
       "gift_type                0\n",
       "gift_category            0\n",
       "gift_cluster             0\n",
       "instock_date             0\n",
       "stock_update_date        0\n",
       "lsg_1                    0\n",
       "lsg_2                    0\n",
       "lsg_3                    0\n",
       "lsg_4                    0\n",
       "lsg_5                    0\n",
       "lsg_6                    0\n",
       "uk_date1                 0\n",
       "uk_date2                 0\n",
       "is_discounted            0\n",
       "volumes              12956\n",
       "price                    0\n",
       "dtype: int64"
      ]
     },
     "execution_count": 72,
     "metadata": {},
     "output_type": "execute_result"
    }
   ],
   "source": [
    "# Alternatively, you can see the number of missing values like this\n",
    "train.isnull().sum()"
   ]
  },
  {
   "cell_type": "code",
   "execution_count": 73,
   "metadata": {},
   "outputs": [
    {
     "data": {
      "text/html": [
       "<div>\n",
       "<style scoped>\n",
       "    .dataframe tbody tr th:only-of-type {\n",
       "        vertical-align: middle;\n",
       "    }\n",
       "\n",
       "    .dataframe tbody tr th {\n",
       "        vertical-align: top;\n",
       "    }\n",
       "\n",
       "    .dataframe thead th {\n",
       "        text-align: right;\n",
       "    }\n",
       "</style>\n",
       "<table border=\"1\" class=\"dataframe\">\n",
       "  <thead>\n",
       "    <tr style=\"text-align: right;\">\n",
       "      <th></th>\n",
       "      <th>Total</th>\n",
       "      <th>%</th>\n",
       "    </tr>\n",
       "  </thead>\n",
       "  <tbody>\n",
       "    <tr>\n",
       "      <th>volumes</th>\n",
       "      <td>12956</td>\n",
       "      <td>63.9</td>\n",
       "    </tr>\n",
       "    <tr>\n",
       "      <th>price</th>\n",
       "      <td>0</td>\n",
       "      <td>0.0</td>\n",
       "    </tr>\n",
       "    <tr>\n",
       "      <th>lsg_2</th>\n",
       "      <td>0</td>\n",
       "      <td>0.0</td>\n",
       "    </tr>\n",
       "    <tr>\n",
       "      <th>gift_type</th>\n",
       "      <td>0</td>\n",
       "      <td>0.0</td>\n",
       "    </tr>\n",
       "    <tr>\n",
       "      <th>gift_category</th>\n",
       "      <td>0</td>\n",
       "      <td>0.0</td>\n",
       "    </tr>\n",
       "  </tbody>\n",
       "</table>\n",
       "</div>"
      ],
      "text/plain": [
       "               Total     %\n",
       "volumes        12956  63.9\n",
       "price              0   0.0\n",
       "lsg_2              0   0.0\n",
       "gift_type          0   0.0\n",
       "gift_category      0   0.0"
      ]
     },
     "execution_count": 73,
     "metadata": {},
     "output_type": "execute_result"
    }
   ],
   "source": [
    "total_train = train.isnull().sum().sort_values(ascending=False)\n",
    "percent_1 = train.isnull().sum()/train.isnull().count()*100\n",
    "percent_2 = (round(percent_1, 1)).sort_values(ascending=False)\n",
    "missing_data_train = pd.concat([total_train, percent_2], axis=1, keys=['Total', '%'])\n",
    "missing_data_train.head(5)"
   ]
  },
  {
   "cell_type": "markdown",
   "metadata": {},
   "source": [
    "Similarly i checked for missing data in test data"
   ]
  },
  {
   "cell_type": "code",
   "execution_count": 74,
   "metadata": {
    "scrolled": true
   },
   "outputs": [
    {
     "data": {
      "text/plain": [
       "gift_id                 0\n",
       "gift_type               0\n",
       "gift_category           0\n",
       "gift_cluster            0\n",
       "instock_date            0\n",
       "stock_update_date       0\n",
       "lsg_1                   0\n",
       "lsg_2                   0\n",
       "lsg_3                   0\n",
       "lsg_4                   0\n",
       "lsg_5                   0\n",
       "lsg_6                   0\n",
       "uk_date1                0\n",
       "uk_date2                0\n",
       "is_discounted           0\n",
       "volumes              2352\n",
       "dtype: int64"
      ]
     },
     "execution_count": 74,
     "metadata": {},
     "output_type": "execute_result"
    }
   ],
   "source": [
    "test.isnull().sum()"
   ]
  },
  {
   "cell_type": "code",
   "execution_count": 75,
   "metadata": {},
   "outputs": [
    {
     "data": {
      "text/plain": [
       "<matplotlib.axes._subplots.AxesSubplot at 0x2c931d2acc8>"
      ]
     },
     "execution_count": 75,
     "metadata": {},
     "output_type": "execute_result"
    },
    {
     "data": {
      "image/png": "[encoded data removed]",
      "text/plain": [
       "<Figure size 2160x720 with 2 Axes>"
      ]
     },
     "metadata": {},
     "output_type": "display_data"
    }
   ],
   "source": [
    "# Plot graphic of missing values\n",
    "missingno.matrix(test, figsize = (30,10))"
   ]
  },
  {
   "cell_type": "markdown",
   "metadata": {},
   "source": [
    "## Data Description\n",
    "\n",
    "**gift_id:** \tUnique ID of gift\n",
    "\n",
    "**gift_type:** \tType of gift (clothes/perfumes/etc.)\n",
    "\n",
    "**gift_category:** \tCategory to which the gift belongs under that gift type\n",
    "\n",
    "**gift_cluster:** \tType of industry the gift belongs\n",
    "\n",
    "**instock_date:** \tDate of arrival of stock\n",
    "\n",
    "**stock_update_date:** \tDate on which the stock was updated\n",
    "\n",
    "**lsg_1 - lsg_6:** \tAnonymized variables related to gift\n",
    "\n",
    "**uk_date1, uk_date2:** \tBuyer related dates\n",
    "\n",
    "**is_discounted:** \tShows whether the discounted is applicable on the gift\n",
    "\n",
    "**volumes:** \tNumber of packages bought\n",
    "\n",
    "**price:**  \tThe total price"
   ]
  },
  {
   "cell_type": "markdown",
   "metadata": {},
   "source": [
    "## What datatypes are in the dataframe?\n",
    "\n",
    "As a general rule of thumb, features with a datatype of object could be considered categorical features. And those which are floats or ints (numbers) could be considered numerical features.\n",
    "\n",
    "However, as we dig deeper, we might find features which are numerical may actually be categorical.\n",
    "\n",
    "The goal for the next few steps is to figure out how best to process the data so our machine learning model can learn from it.\n",
    "\n",
    "Ideally, all the features will be encoded into a numerical value of some kind. "
   ]
  },
  {
   "cell_type": "code",
   "execution_count": 76,
   "metadata": {},
   "outputs": [
    {
     "data": {
      "text/plain": [
       "gift_id               object\n",
       "gift_type              int64\n",
       "gift_category          int64\n",
       "gift_cluster           int64\n",
       "instock_date          object\n",
       "stock_update_date     object\n",
       "lsg_1                  int64\n",
       "lsg_2                  int64\n",
       "lsg_3                  int64\n",
       "lsg_4                  int64\n",
       "lsg_5                  int64\n",
       "lsg_6                  int64\n",
       "uk_date1              object\n",
       "uk_date2              object\n",
       "is_discounted          int64\n",
       "volumes              float64\n",
       "price                float64\n",
       "dtype: object"
      ]
     },
     "execution_count": 76,
     "metadata": {},
     "output_type": "execute_result"
    }
   ],
   "source": [
    "# Different data types in the dataset\n",
    "train.dtypes"
   ]
  },
  {
   "cell_type": "markdown",
   "metadata": {},
   "source": [
    "## Let's explore each of these features individually\n",
    "We'll go through each column iteratively and see which ones to use in our first models.\n",
    "Some may need more preprocessing than others to get ready."
   ]
  },
  {
   "cell_type": "markdown",
   "metadata": {},
   "source": [
    "### Predicting the missing values of volume column in train dataset"
   ]
  },
  {
   "cell_type": "code",
   "execution_count": 77,
   "metadata": {},
   "outputs": [
    {
     "data": {
      "text/plain": [
       "10.0    730\n",
       "9.0     705\n",
       "8.0     601\n",
       "7.0     542\n",
       "6.0     413\n",
       "25.0    410\n",
       "27.0    383\n",
       "26.0    366\n",
       "11.0    358\n",
       "28.0    299\n",
       "24.0    282\n",
       "12.0    236\n",
       "19.0    209\n",
       "18.0    208\n",
       "15.0    194\n",
       "17.0    184\n",
       "16.0    180\n",
       "13.0    168\n",
       "22.0    147\n",
       "20.0    147\n",
       "23.0    147\n",
       "14.0    139\n",
       "29.0    134\n",
       "21.0    123\n",
       "5.0      18\n",
       "Name: volumes, dtype: int64"
      ]
     },
     "execution_count": 77,
     "metadata": {},
     "output_type": "execute_result"
    }
   ],
   "source": [
    "train.volumes.value_counts()"
   ]
  },
  {
   "cell_type": "code",
   "execution_count": 78,
   "metadata": {},
   "outputs": [],
   "source": [
    "features_tr = ['price','gift_type', 'gift_category', 'gift_cluster', 'lsg_1', 'lsg_2', 'lsg_3','lsg_4', 'lsg_5', 'lsg_6', 'is_discounted']\n",
    "target_tr = 'volumes'"
   ]
  },
  {
   "cell_type": "code",
   "execution_count": 79,
   "metadata": {},
   "outputs": [],
   "source": [
    "# Slicing the Data Frame to create Model\n",
    "m_tr = train[['volumes', 'price', 'gift_type', 'gift_category', 'gift_cluster', 'lsg_1', 'lsg_2', 'lsg_3','lsg_4', 'lsg_5', 'lsg_6', 'is_discounted']]\n",
    "d_tr = m_tr.dropna()"
   ]
  },
  {
   "cell_type": "code",
   "execution_count": 80,
   "metadata": {},
   "outputs": [],
   "source": [
    "X_tr = d_tr.drop('volumes',axis=1)\n",
    "Y_tr = d_tr['volumes']"
   ]
  },
  {
   "cell_type": "code",
   "execution_count": 81,
   "metadata": {},
   "outputs": [],
   "source": [
    "from sklearn.model_selection import train_test_split \n",
    "from sklearn.ensemble import GradientBoostingRegressor\n"
   ]
  },
  {
   "cell_type": "code",
   "execution_count": 82,
   "metadata": {},
   "outputs": [
    {
     "data": {
      "text/plain": [
       "GradientBoostingRegressor(alpha=0.9, ccp_alpha=0.0, criterion='friedman_mse',\n",
       "                          init=None, learning_rate=0.378, loss='ls',\n",
       "                          max_depth=5, max_features=None, max_leaf_nodes=None,\n",
       "                          min_impurity_decrease=0.0, min_impurity_split=None,\n",
       "                          min_samples_leaf=1, min_samples_split=2,\n",
       "                          min_weight_fraction_leaf=0.0, n_estimators=120,\n",
       "                          n_iter_no_change=None, presort='deprecated',\n",
       "                          random_state=2, subsample=1.0, tol=0.0001,\n",
       "                          validation_fraction=0.1, verbose=0, warm_start=False)"
      ]
     },
     "execution_count": 82,
     "metadata": {},
     "output_type": "execute_result"
    }
   ],
   "source": [
    "# Splitting the Data\n",
    "Xtr_train, Xtr_test, Ytr_train, Ytr_test = train_test_split(X_tr, Y_tr, test_size = 0.3, random_state = 0)\n",
    "\n",
    "# Creating the Model (Optimised)\n",
    "model_tr = GradientBoostingRegressor(n_estimators = 120 , random_state = 2 , learning_rate = 0.378 , max_depth = 5)\n",
    "model_tr.fit(Xtr_train,Ytr_train)"
   ]
  },
  {
   "cell_type": "code",
   "execution_count": 83,
   "metadata": {},
   "outputs": [],
   "source": [
    "y_pred_tr = np.round(model_tr.predict(Xtr_test),0)"
   ]
  },
  {
   "cell_type": "code",
   "execution_count": 84,
   "metadata": {},
   "outputs": [
    {
     "name": "stdout",
     "output_type": "stream",
     "text": [
      "Mean Absolute Error: 1.5566681838871188\n",
      "Mean Squared Error: 4.105598543468366\n",
      "Root Mean Squared Error: 2.026227663286721\n"
     ]
    }
   ],
   "source": [
    "from sklearn import metrics\n",
    "\n",
    "print('Mean Absolute Error:', metrics.mean_absolute_error(Ytr_test, y_pred_tr))\n",
    "print('Mean Squared Error:', metrics.mean_squared_error(Ytr_test, y_pred_tr))  \n",
    "print('Root Mean Squared Error:', np.sqrt(metrics.mean_squared_error(Ytr_test, y_pred_tr)))"
   ]
  },
  {
   "cell_type": "code",
   "execution_count": 85,
   "metadata": {},
   "outputs": [
    {
     "data": {
      "text/html": [
       "<div>\n",
       "<style scoped>\n",
       "    .dataframe tbody tr th:only-of-type {\n",
       "        vertical-align: middle;\n",
       "    }\n",
       "\n",
       "    .dataframe tbody tr th {\n",
       "        vertical-align: top;\n",
       "    }\n",
       "\n",
       "    .dataframe thead th {\n",
       "        text-align: right;\n",
       "    }\n",
       "</style>\n",
       "<table border=\"1\" class=\"dataframe\">\n",
       "  <thead>\n",
       "    <tr style=\"text-align: right;\">\n",
       "      <th></th>\n",
       "      <th>Actual</th>\n",
       "      <th>Predicted</th>\n",
       "    </tr>\n",
       "  </thead>\n",
       "  <tbody>\n",
       "    <tr>\n",
       "      <th>3586</th>\n",
       "      <td>29.0</td>\n",
       "      <td>28.0</td>\n",
       "    </tr>\n",
       "    <tr>\n",
       "      <th>12206</th>\n",
       "      <td>11.0</td>\n",
       "      <td>13.0</td>\n",
       "    </tr>\n",
       "    <tr>\n",
       "      <th>10471</th>\n",
       "      <td>26.0</td>\n",
       "      <td>27.0</td>\n",
       "    </tr>\n",
       "    <tr>\n",
       "      <th>2036</th>\n",
       "      <td>6.0</td>\n",
       "      <td>7.0</td>\n",
       "    </tr>\n",
       "    <tr>\n",
       "      <th>10951</th>\n",
       "      <td>27.0</td>\n",
       "      <td>26.0</td>\n",
       "    </tr>\n",
       "    <tr>\n",
       "      <th>...</th>\n",
       "      <td>...</td>\n",
       "      <td>...</td>\n",
       "    </tr>\n",
       "    <tr>\n",
       "      <th>4984</th>\n",
       "      <td>6.0</td>\n",
       "      <td>9.0</td>\n",
       "    </tr>\n",
       "    <tr>\n",
       "      <th>1483</th>\n",
       "      <td>27.0</td>\n",
       "      <td>28.0</td>\n",
       "    </tr>\n",
       "    <tr>\n",
       "      <th>288</th>\n",
       "      <td>7.0</td>\n",
       "      <td>8.0</td>\n",
       "    </tr>\n",
       "    <tr>\n",
       "      <th>10723</th>\n",
       "      <td>15.0</td>\n",
       "      <td>16.0</td>\n",
       "    </tr>\n",
       "    <tr>\n",
       "      <th>13350</th>\n",
       "      <td>23.0</td>\n",
       "      <td>21.0</td>\n",
       "    </tr>\n",
       "  </tbody>\n",
       "</table>\n",
       "<p>2197 rows × 2 columns</p>\n",
       "</div>"
      ],
      "text/plain": [
       "       Actual  Predicted\n",
       "3586     29.0       28.0\n",
       "12206    11.0       13.0\n",
       "10471    26.0       27.0\n",
       "2036      6.0        7.0\n",
       "10951    27.0       26.0\n",
       "...       ...        ...\n",
       "4984      6.0        9.0\n",
       "1483     27.0       28.0\n",
       "288       7.0        8.0\n",
       "10723    15.0       16.0\n",
       "13350    23.0       21.0\n",
       "\n",
       "[2197 rows x 2 columns]"
      ]
     },
     "execution_count": 85,
     "metadata": {},
     "output_type": "execute_result"
    }
   ],
   "source": [
    "df_tr = pd.DataFrame({'Actual': Ytr_test, 'Predicted': y_pred_tr})\n",
    "df_tr"
   ]
  },
  {
   "cell_type": "markdown",
   "metadata": {},
   "source": [
    "Since the rmse is 2% , we can now use the model to pridict the null values in the volume column"
   ]
  },
  {
   "cell_type": "code",
   "execution_count": 86,
   "metadata": {},
   "outputs": [],
   "source": [
    "df_train_vol = train.copy()\n",
    "test_vol_tr  = pd.DataFrame(df_train_vol[df_train_vol['volumes'].isnull()])\n",
    "df_train_vol.dropna(inplace=True)"
   ]
  },
  {
   "cell_type": "code",
   "execution_count": 87,
   "metadata": {},
   "outputs": [
    {
     "data": {
      "text/plain": [
       "Index(['price', 'gift_type', 'gift_category', 'gift_cluster', 'lsg_1', 'lsg_2',\n",
       "       'lsg_3', 'lsg_4', 'lsg_5', 'lsg_6', 'is_discounted'],\n",
       "      dtype='object')"
      ]
     },
     "execution_count": 87,
     "metadata": {},
     "output_type": "execute_result"
    }
   ],
   "source": [
    "Xtr_train.columns"
   ]
  },
  {
   "cell_type": "code",
   "execution_count": 88,
   "metadata": {},
   "outputs": [
    {
     "data": {
      "text/plain": [
       "Index(['price', 'gift_type', 'gift_category', 'gift_cluster', 'lsg_1', 'lsg_2',\n",
       "       'lsg_3', 'lsg_4', 'lsg_5', 'lsg_6', 'is_discounted'],\n",
       "      dtype='object')"
      ]
     },
     "execution_count": 88,
     "metadata": {},
     "output_type": "execute_result"
    }
   ],
   "source": [
    "test_vol_tr[features_tr].columns"
   ]
  },
  {
   "cell_type": "code",
   "execution_count": 89,
   "metadata": {},
   "outputs": [
    {
     "data": {
      "text/plain": [
       "(12956,)"
      ]
     },
     "execution_count": 89,
     "metadata": {},
     "output_type": "execute_result"
    }
   ],
   "source": [
    "# Predicting Null Values in the 'Volumes' Column\n",
    "predictions_tr = model_tr.predict(test_vol_tr[features_tr])\n",
    "\n",
    "predictions_tr.shape"
   ]
  },
  {
   "cell_type": "code",
   "execution_count": 90,
   "metadata": {},
   "outputs": [],
   "source": [
    "# Imputing Predicted Null Values in the Dataset\n",
    "test_vol_tr[target] = predictions_tr\n",
    "frame = [df_train_vol, test_vol_tr]"
   ]
  },
  {
   "cell_type": "code",
   "execution_count": 91,
   "metadata": {},
   "outputs": [],
   "source": [
    "final_tr = pd.concat(frame)"
   ]
  },
  {
   "cell_type": "code",
   "execution_count": 92,
   "metadata": {
    "scrolled": true
   },
   "outputs": [
    {
     "data": {
      "text/plain": [
       "(20279, 17)"
      ]
     },
     "execution_count": 92,
     "metadata": {},
     "output_type": "execute_result"
    }
   ],
   "source": [
    "final_tr.shape"
   ]
  },
  {
   "cell_type": "markdown",
   "metadata": {},
   "source": [
    "### Predicting the values of volumn column in test data set"
   ]
  },
  {
   "cell_type": "code",
   "execution_count": 93,
   "metadata": {},
   "outputs": [
    {
     "data": {
      "text/plain": [
       "10.0    1063\n",
       "9.0     1031\n",
       "8.0      935\n",
       "7.0      725\n",
       "11.0     636\n",
       "25.0     585\n",
       "24.0     582\n",
       "27.0     541\n",
       "6.0      532\n",
       "26.0     531\n",
       "12.0     525\n",
       "28.0     484\n",
       "13.0     345\n",
       "15.0     325\n",
       "14.0     322\n",
       "16.0     295\n",
       "23.0     289\n",
       "17.0     256\n",
       "20.0     226\n",
       "22.0     221\n",
       "21.0     214\n",
       "18.0     209\n",
       "19.0     186\n",
       "29.0      75\n",
       "5.0       34\n",
       "Name: volumes, dtype: int64"
      ]
     },
     "execution_count": 93,
     "metadata": {},
     "output_type": "execute_result"
    }
   ],
   "source": [
    "test.volumes.value_counts()"
   ]
  },
  {
   "cell_type": "code",
   "execution_count": 94,
   "metadata": {},
   "outputs": [],
   "source": [
    "features_te = ['gift_type', 'gift_category', 'gift_cluster', 'lsg_1', 'lsg_2', 'lsg_3','lsg_4', 'lsg_5', 'lsg_6', 'is_discounted']\n",
    "target_te = 'volumes'"
   ]
  },
  {
   "cell_type": "code",
   "execution_count": 95,
   "metadata": {},
   "outputs": [],
   "source": [
    "# Slicing the Data Frame to create Model\n",
    "m_te = test[['volumes','gift_type', 'gift_category', 'gift_cluster', 'lsg_1', 'lsg_2', 'lsg_3','lsg_4', 'lsg_5', 'lsg_6', 'is_discounted']]\n",
    "d_te = m_te.dropna()"
   ]
  },
  {
   "cell_type": "code",
   "execution_count": 96,
   "metadata": {},
   "outputs": [],
   "source": [
    "X_te = d_te.drop('volumes',axis=1)\n",
    "Y_te = d_te['volumes']"
   ]
  },
  {
   "cell_type": "code",
   "execution_count": 97,
   "metadata": {},
   "outputs": [
    {
     "data": {
      "text/plain": [
       "(11167, 10)"
      ]
     },
     "execution_count": 97,
     "metadata": {},
     "output_type": "execute_result"
    }
   ],
   "source": [
    "X_te.shape"
   ]
  },
  {
   "cell_type": "code",
   "execution_count": 98,
   "metadata": {},
   "outputs": [
    {
     "data": {
      "text/plain": [
       "GradientBoostingRegressor(alpha=0.9, ccp_alpha=0.0, criterion='friedman_mse',\n",
       "                          init=None, learning_rate=0.378, loss='ls',\n",
       "                          max_depth=5, max_features=None, max_leaf_nodes=None,\n",
       "                          min_impurity_decrease=0.0, min_impurity_split=None,\n",
       "                          min_samples_leaf=1, min_samples_split=2,\n",
       "                          min_weight_fraction_leaf=0.0, n_estimators=120,\n",
       "                          n_iter_no_change=None, presort='deprecated',\n",
       "                          random_state=2, subsample=1.0, tol=0.0001,\n",
       "                          validation_fraction=0.1, verbose=0, warm_start=False)"
      ]
     },
     "execution_count": 98,
     "metadata": {},
     "output_type": "execute_result"
    }
   ],
   "source": [
    "# Splitting the Data\n",
    "Xte_train, Xte_test, Yte_train, Yte_test = train_test_split(X_te, Y_te, test_size = 0.3, random_state = 0)\n",
    "\n",
    "# Creating the Model (Optimised)\n",
    "model_te = GradientBoostingRegressor(n_estimators = 120 , random_state = 2 , learning_rate = 0.378 , max_depth = 5)\n",
    "model_te.fit(Xte_train,Yte_train)"
   ]
  },
  {
   "cell_type": "code",
   "execution_count": 99,
   "metadata": {},
   "outputs": [],
   "source": [
    "y_pred_te = np.round(model_te.predict(Xte_test),0)"
   ]
  },
  {
   "cell_type": "code",
   "execution_count": 100,
   "metadata": {},
   "outputs": [
    {
     "name": "stdout",
     "output_type": "stream",
     "text": [
      "Mean Absolute Error: 1.5947478364667262\n",
      "Mean Squared Error: 4.833184124142047\n",
      "Root Mean Squared Error: 2.198450391558119\n"
     ]
    }
   ],
   "source": [
    "from sklearn import metrics\n",
    "\n",
    "print('Mean Absolute Error:', metrics.mean_absolute_error(Yte_test, y_pred_te))\n",
    "print('Mean Squared Error:', metrics.mean_squared_error(Yte_test, y_pred_te))  \n",
    "print('Root Mean Squared Error:', np.sqrt(metrics.mean_squared_error(Yte_test, y_pred_te)))"
   ]
  },
  {
   "cell_type": "code",
   "execution_count": 101,
   "metadata": {},
   "outputs": [
    {
     "data": {
      "text/html": [
       "<div>\n",
       "<style scoped>\n",
       "    .dataframe tbody tr th:only-of-type {\n",
       "        vertical-align: middle;\n",
       "    }\n",
       "\n",
       "    .dataframe tbody tr th {\n",
       "        vertical-align: top;\n",
       "    }\n",
       "\n",
       "    .dataframe thead th {\n",
       "        text-align: right;\n",
       "    }\n",
       "</style>\n",
       "<table border=\"1\" class=\"dataframe\">\n",
       "  <thead>\n",
       "    <tr style=\"text-align: right;\">\n",
       "      <th></th>\n",
       "      <th>Actual</th>\n",
       "      <th>Predicted</th>\n",
       "    </tr>\n",
       "  </thead>\n",
       "  <tbody>\n",
       "    <tr>\n",
       "      <th>11501</th>\n",
       "      <td>24.0</td>\n",
       "      <td>23.0</td>\n",
       "    </tr>\n",
       "    <tr>\n",
       "      <th>4093</th>\n",
       "      <td>6.0</td>\n",
       "      <td>8.0</td>\n",
       "    </tr>\n",
       "    <tr>\n",
       "      <th>13409</th>\n",
       "      <td>11.0</td>\n",
       "      <td>11.0</td>\n",
       "    </tr>\n",
       "    <tr>\n",
       "      <th>11611</th>\n",
       "      <td>28.0</td>\n",
       "      <td>27.0</td>\n",
       "    </tr>\n",
       "    <tr>\n",
       "      <th>12315</th>\n",
       "      <td>15.0</td>\n",
       "      <td>17.0</td>\n",
       "    </tr>\n",
       "    <tr>\n",
       "      <th>...</th>\n",
       "      <td>...</td>\n",
       "      <td>...</td>\n",
       "    </tr>\n",
       "    <tr>\n",
       "      <th>10507</th>\n",
       "      <td>22.0</td>\n",
       "      <td>20.0</td>\n",
       "    </tr>\n",
       "    <tr>\n",
       "      <th>6335</th>\n",
       "      <td>12.0</td>\n",
       "      <td>14.0</td>\n",
       "    </tr>\n",
       "    <tr>\n",
       "      <th>5006</th>\n",
       "      <td>24.0</td>\n",
       "      <td>25.0</td>\n",
       "    </tr>\n",
       "    <tr>\n",
       "      <th>12074</th>\n",
       "      <td>23.0</td>\n",
       "      <td>22.0</td>\n",
       "    </tr>\n",
       "    <tr>\n",
       "      <th>7173</th>\n",
       "      <td>12.0</td>\n",
       "      <td>11.0</td>\n",
       "    </tr>\n",
       "  </tbody>\n",
       "</table>\n",
       "<p>3351 rows × 2 columns</p>\n",
       "</div>"
      ],
      "text/plain": [
       "       Actual  Predicted\n",
       "11501    24.0       23.0\n",
       "4093      6.0        8.0\n",
       "13409    11.0       11.0\n",
       "11611    28.0       27.0\n",
       "12315    15.0       17.0\n",
       "...       ...        ...\n",
       "10507    22.0       20.0\n",
       "6335     12.0       14.0\n",
       "5006     24.0       25.0\n",
       "12074    23.0       22.0\n",
       "7173     12.0       11.0\n",
       "\n",
       "[3351 rows x 2 columns]"
      ]
     },
     "execution_count": 101,
     "metadata": {},
     "output_type": "execute_result"
    }
   ],
   "source": [
    "df_te = pd.DataFrame({'Actual': Yte_test, 'Predicted': y_pred_te})\n",
    "df_te"
   ]
  },
  {
   "cell_type": "markdown",
   "metadata": {},
   "source": [
    "Since the rmse is 2% , we can now use the model to pridict the null values in the volume column"
   ]
  },
  {
   "cell_type": "code",
   "execution_count": 102,
   "metadata": {},
   "outputs": [],
   "source": [
    "df_test_vol = test.copy()\n",
    "test_vol_te  = pd.DataFrame(df_test_vol[df_test_vol['volumes'].isnull()])\n",
    "df_test_vol.dropna(inplace=True)"
   ]
  },
  {
   "cell_type": "code",
   "execution_count": 103,
   "metadata": {},
   "outputs": [
    {
     "data": {
      "text/plain": [
       "Index(['gift_type', 'gift_category', 'gift_cluster', 'lsg_1', 'lsg_2', 'lsg_3',\n",
       "       'lsg_4', 'lsg_5', 'lsg_6', 'is_discounted'],\n",
       "      dtype='object')"
      ]
     },
     "execution_count": 103,
     "metadata": {},
     "output_type": "execute_result"
    }
   ],
   "source": [
    "Xte_train.columns"
   ]
  },
  {
   "cell_type": "code",
   "execution_count": 104,
   "metadata": {},
   "outputs": [
    {
     "data": {
      "text/plain": [
       "Index(['gift_type', 'gift_category', 'gift_cluster', 'lsg_1', 'lsg_2', 'lsg_3',\n",
       "       'lsg_4', 'lsg_5', 'lsg_6', 'is_discounted'],\n",
       "      dtype='object')"
      ]
     },
     "execution_count": 104,
     "metadata": {},
     "output_type": "execute_result"
    }
   ],
   "source": [
    "test_vol_te[features_te].columns"
   ]
  },
  {
   "cell_type": "code",
   "execution_count": 105,
   "metadata": {},
   "outputs": [
    {
     "data": {
      "text/plain": [
       "(2352,)"
      ]
     },
     "execution_count": 105,
     "metadata": {},
     "output_type": "execute_result"
    }
   ],
   "source": [
    "# Predicting Null Values in the 'Volumes' Column\n",
    "predictions_te = model_te.predict(test_vol_te[features_te])\n",
    "\n",
    "predictions_te.shape"
   ]
  },
  {
   "cell_type": "code",
   "execution_count": 106,
   "metadata": {},
   "outputs": [],
   "source": [
    "# Imputing Predicted Null Values in the Dataset\n",
    "test_vol_te[target] = predictions_te\n",
    "frame_te = [df_test_vol, test_vol_te]"
   ]
  },
  {
   "cell_type": "code",
   "execution_count": 107,
   "metadata": {},
   "outputs": [],
   "source": [
    "final_te = pd.concat(frame_te)"
   ]
  },
  {
   "cell_type": "code",
   "execution_count": 108,
   "metadata": {
    "scrolled": true
   },
   "outputs": [
    {
     "data": {
      "text/plain": [
       "(13519, 16)"
      ]
     },
     "execution_count": 108,
     "metadata": {},
     "output_type": "execute_result"
    }
   ],
   "source": [
    "final_te.shape"
   ]
  },
  {
   "cell_type": "markdown",
   "metadata": {},
   "source": [
    "## To perform our data analysis, let's create two new dataframes which are a copy of original dataset"
   ]
  },
  {
   "cell_type": "code",
   "execution_count": 109,
   "metadata": {},
   "outputs": [
    {
     "name": "stdout",
     "output_type": "stream",
     "text": [
      "train (20279, 17)\n",
      "final_tr (20279, 17)\n"
     ]
    }
   ],
   "source": [
    "print(\"train\",train.shape)\n",
    "print(\"final_tr\",final_tr.shape)"
   ]
  },
  {
   "cell_type": "code",
   "execution_count": 110,
   "metadata": {},
   "outputs": [
    {
     "name": "stdout",
     "output_type": "stream",
     "text": [
      "test (13519, 16)\n",
      "final_te (13519, 16)\n"
     ]
    }
   ],
   "source": [
    "print(\"test\",test.shape)\n",
    "print(\"final_te\",final_te.shape)"
   ]
  },
  {
   "cell_type": "code",
   "execution_count": 111,
   "metadata": {},
   "outputs": [],
   "source": [
    "df_train = final_tr.copy()"
   ]
  },
  {
   "cell_type": "code",
   "execution_count": 112,
   "metadata": {},
   "outputs": [],
   "source": [
    "df_test= final_te.copy()"
   ]
  },
  {
   "cell_type": "code",
   "execution_count": 113,
   "metadata": {},
   "outputs": [
    {
     "data": {
      "text/plain": [
       "Index(['gift_id', 'gift_type', 'gift_category', 'gift_cluster', 'instock_date',\n",
       "       'stock_update_date', 'lsg_1', 'lsg_2', 'lsg_3', 'lsg_4', 'lsg_5',\n",
       "       'lsg_6', 'uk_date1', 'uk_date2', 'is_discounted', 'volumes', 'price'],\n",
       "      dtype='object')"
      ]
     },
     "execution_count": 113,
     "metadata": {},
     "output_type": "execute_result"
    }
   ],
   "source": [
    "df_train.columns"
   ]
  },
  {
   "cell_type": "code",
   "execution_count": 114,
   "metadata": {},
   "outputs": [
    {
     "data": {
      "text/plain": [
       "Index(['gift_id', 'gift_type', 'gift_category', 'gift_cluster', 'instock_date',\n",
       "       'stock_update_date', 'lsg_1', 'lsg_2', 'lsg_3', 'lsg_4', 'lsg_5',\n",
       "       'lsg_6', 'uk_date1', 'uk_date2', 'is_discounted', 'volumes'],\n",
       "      dtype='object')"
      ]
     },
     "execution_count": 114,
     "metadata": {},
     "output_type": "execute_result"
    }
   ],
   "source": [
    "df_test.columns"
   ]
  },
  {
   "cell_type": "code",
   "execution_count": 115,
   "metadata": {},
   "outputs": [],
   "source": [
    "df_train = df_train.drop(['gift_id','instock_date','stock_update_date','uk_date1','uk_date2'],axis=1)\n",
    "df_test = df_test.drop(['gift_id','instock_date','stock_update_date','uk_date1','uk_date2'],axis=1)"
   ]
  },
  {
   "cell_type": "code",
   "execution_count": 116,
   "metadata": {},
   "outputs": [
    {
     "data": {
      "text/plain": [
       "(20279, 12)"
      ]
     },
     "execution_count": 116,
     "metadata": {},
     "output_type": "execute_result"
    }
   ],
   "source": [
    "df_train.shape"
   ]
  },
  {
   "cell_type": "code",
   "execution_count": 117,
   "metadata": {
    "scrolled": true
   },
   "outputs": [
    {
     "data": {
      "text/plain": [
       "gift_type        0\n",
       "gift_category    0\n",
       "gift_cluster     0\n",
       "lsg_1            0\n",
       "lsg_2            0\n",
       "lsg_3            0\n",
       "lsg_4            0\n",
       "lsg_5            0\n",
       "lsg_6            0\n",
       "is_discounted    0\n",
       "volumes          0\n",
       "price            0\n",
       "dtype: int64"
      ]
     },
     "execution_count": 117,
     "metadata": {},
     "output_type": "execute_result"
    }
   ],
   "source": [
    "df_train.isnull().sum()"
   ]
  },
  {
   "cell_type": "code",
   "execution_count": 118,
   "metadata": {
    "scrolled": false
   },
   "outputs": [
    {
     "data": {
      "text/plain": [
       "gift_type          int64\n",
       "gift_category      int64\n",
       "gift_cluster       int64\n",
       "lsg_1              int64\n",
       "lsg_2              int64\n",
       "lsg_3              int64\n",
       "lsg_4              int64\n",
       "lsg_5              int64\n",
       "lsg_6              int64\n",
       "is_discounted      int64\n",
       "volumes          float64\n",
       "price            float64\n",
       "dtype: object"
      ]
     },
     "execution_count": 118,
     "metadata": {},
     "output_type": "execute_result"
    }
   ],
   "source": [
    "df_train.dtypes"
   ]
  },
  {
   "cell_type": "code",
   "execution_count": 119,
   "metadata": {},
   "outputs": [
    {
     "data": {
      "text/plain": [
       "(13519, 11)"
      ]
     },
     "execution_count": 119,
     "metadata": {},
     "output_type": "execute_result"
    }
   ],
   "source": [
    "df_test.shape"
   ]
  },
  {
   "cell_type": "code",
   "execution_count": 120,
   "metadata": {},
   "outputs": [
    {
     "data": {
      "text/plain": [
       "gift_type        0\n",
       "gift_category    0\n",
       "gift_cluster     0\n",
       "lsg_1            0\n",
       "lsg_2            0\n",
       "lsg_3            0\n",
       "lsg_4            0\n",
       "lsg_5            0\n",
       "lsg_6            0\n",
       "is_discounted    0\n",
       "volumes          0\n",
       "dtype: int64"
      ]
     },
     "execution_count": 120,
     "metadata": {},
     "output_type": "execute_result"
    }
   ],
   "source": [
    "df_test.isnull().sum()"
   ]
  },
  {
   "cell_type": "code",
   "execution_count": 121,
   "metadata": {
    "scrolled": true
   },
   "outputs": [
    {
     "data": {
      "text/plain": [
       "gift_type          int64\n",
       "gift_category      int64\n",
       "gift_cluster       int64\n",
       "lsg_1              int64\n",
       "lsg_2              int64\n",
       "lsg_3              int64\n",
       "lsg_4              int64\n",
       "lsg_5              int64\n",
       "lsg_6              int64\n",
       "is_discounted      int64\n",
       "volumes          float64\n",
       "dtype: object"
      ]
     },
     "execution_count": 121,
     "metadata": {},
     "output_type": "execute_result"
    }
   ],
   "source": [
    "df_test.dtypes"
   ]
  },
  {
   "cell_type": "code",
   "execution_count": 143,
   "metadata": {},
   "outputs": [],
   "source": [
    "df_train['lsg_4'] = (df_train['lsg_4'] - df_train['lsg_4'].mean()) / df_train['lsg_4'].std()\n",
    "df_train['lsg_4'] = np.c_[np.ones(df_train['lsg_4'].shape[0]), df_train['lsg_4']] "
   ]
  },
  {
   "cell_type": "markdown",
   "metadata": {},
   "source": [
    "## Start Building Machine Learning Models\n",
    "Now our data has been manipulating and converted to numbers, we can run a series of different machine learning algorithms over it to find which yield the best results."
   ]
  },
  {
   "cell_type": "markdown",
   "metadata": {},
   "source": [
    "### Let's seperate the data"
   ]
  },
  {
   "cell_type": "code",
   "execution_count": 145,
   "metadata": {},
   "outputs": [],
   "source": [
    "# Split the dataframe into data and labels\n",
    "X_train = df_train.drop('price', axis=1) # data\n",
    "y_train = df_train.price # labels\n",
    "X_test = df_test"
   ]
  },
  {
   "cell_type": "code",
   "execution_count": 146,
   "metadata": {
    "scrolled": true
   },
   "outputs": [
    {
     "data": {
      "text/plain": [
       "(20279, 11)"
      ]
     },
     "execution_count": 146,
     "metadata": {},
     "output_type": "execute_result"
    }
   ],
   "source": [
    "# Shape of the data (without labels)\n",
    "X_train.shape"
   ]
  },
  {
   "cell_type": "code",
   "execution_count": 147,
   "metadata": {},
   "outputs": [
    {
     "data": {
      "text/plain": [
       "(20279,)"
      ]
     },
     "execution_count": 147,
     "metadata": {},
     "output_type": "execute_result"
    }
   ],
   "source": [
    "# Shape of the labels\n",
    "y_train.shape"
   ]
  },
  {
   "cell_type": "code",
   "execution_count": 148,
   "metadata": {},
   "outputs": [
    {
     "data": {
      "text/plain": [
       "(13519, 11)"
      ]
     },
     "execution_count": 148,
     "metadata": {},
     "output_type": "execute_result"
    }
   ],
   "source": [
    "# Shape of the test data\n",
    "X_test.shape"
   ]
  },
  {
   "cell_type": "code",
   "execution_count": 149,
   "metadata": {
    "scrolled": true
   },
   "outputs": [
    {
     "data": {
      "text/html": [
       "<div>\n",
       "<style scoped>\n",
       "    .dataframe tbody tr th:only-of-type {\n",
       "        vertical-align: middle;\n",
       "    }\n",
       "\n",
       "    .dataframe tbody tr th {\n",
       "        vertical-align: top;\n",
       "    }\n",
       "\n",
       "    .dataframe thead th {\n",
       "        text-align: right;\n",
       "    }\n",
       "</style>\n",
       "<table border=\"1\" class=\"dataframe\">\n",
       "  <thead>\n",
       "    <tr style=\"text-align: right;\">\n",
       "      <th></th>\n",
       "      <th>gift_type</th>\n",
       "      <th>gift_category</th>\n",
       "      <th>gift_cluster</th>\n",
       "      <th>lsg_1</th>\n",
       "      <th>lsg_2</th>\n",
       "      <th>lsg_3</th>\n",
       "      <th>lsg_4</th>\n",
       "      <th>lsg_5</th>\n",
       "      <th>lsg_6</th>\n",
       "      <th>is_discounted</th>\n",
       "      <th>volumes</th>\n",
       "    </tr>\n",
       "  </thead>\n",
       "  <tbody>\n",
       "    <tr>\n",
       "      <th>12</th>\n",
       "      <td>168</td>\n",
       "      <td>403</td>\n",
       "      <td>1846</td>\n",
       "      <td>3799</td>\n",
       "      <td>3358</td>\n",
       "      <td>1230</td>\n",
       "      <td>1.0</td>\n",
       "      <td>9</td>\n",
       "      <td>327</td>\n",
       "      <td>0</td>\n",
       "      <td>25.0</td>\n",
       "    </tr>\n",
       "    <tr>\n",
       "      <th>13</th>\n",
       "      <td>168</td>\n",
       "      <td>403</td>\n",
       "      <td>1846</td>\n",
       "      <td>3799</td>\n",
       "      <td>3358</td>\n",
       "      <td>1230</td>\n",
       "      <td>1.0</td>\n",
       "      <td>9</td>\n",
       "      <td>327</td>\n",
       "      <td>0</td>\n",
       "      <td>26.0</td>\n",
       "    </tr>\n",
       "    <tr>\n",
       "      <th>14</th>\n",
       "      <td>168</td>\n",
       "      <td>403</td>\n",
       "      <td>1846</td>\n",
       "      <td>3799</td>\n",
       "      <td>3358</td>\n",
       "      <td>1230</td>\n",
       "      <td>1.0</td>\n",
       "      <td>9</td>\n",
       "      <td>327</td>\n",
       "      <td>0</td>\n",
       "      <td>26.0</td>\n",
       "    </tr>\n",
       "    <tr>\n",
       "      <th>15</th>\n",
       "      <td>168</td>\n",
       "      <td>403</td>\n",
       "      <td>1846</td>\n",
       "      <td>3799</td>\n",
       "      <td>3358</td>\n",
       "      <td>1230</td>\n",
       "      <td>1.0</td>\n",
       "      <td>9</td>\n",
       "      <td>327</td>\n",
       "      <td>0</td>\n",
       "      <td>29.0</td>\n",
       "    </tr>\n",
       "    <tr>\n",
       "      <th>16</th>\n",
       "      <td>168</td>\n",
       "      <td>403</td>\n",
       "      <td>1846</td>\n",
       "      <td>3799</td>\n",
       "      <td>3358</td>\n",
       "      <td>1230</td>\n",
       "      <td>1.0</td>\n",
       "      <td>9</td>\n",
       "      <td>327</td>\n",
       "      <td>0</td>\n",
       "      <td>25.0</td>\n",
       "    </tr>\n",
       "  </tbody>\n",
       "</table>\n",
       "</div>"
      ],
      "text/plain": [
       "    gift_type  gift_category  gift_cluster  lsg_1  lsg_2  lsg_3  lsg_4  lsg_5  \\\n",
       "12        168            403          1846   3799   3358   1230    1.0      9   \n",
       "13        168            403          1846   3799   3358   1230    1.0      9   \n",
       "14        168            403          1846   3799   3358   1230    1.0      9   \n",
       "15        168            403          1846   3799   3358   1230    1.0      9   \n",
       "16        168            403          1846   3799   3358   1230    1.0      9   \n",
       "\n",
       "    lsg_6  is_discounted  volumes  \n",
       "12    327              0     25.0  \n",
       "13    327              0     26.0  \n",
       "14    327              0     26.0  \n",
       "15    327              0     29.0  \n",
       "16    327              0     25.0  "
      ]
     },
     "execution_count": 149,
     "metadata": {},
     "output_type": "execute_result"
    }
   ],
   "source": [
    "X_train.head()"
   ]
  },
  {
   "cell_type": "code",
   "execution_count": 150,
   "metadata": {},
   "outputs": [],
   "source": [
    "from sklearn.model_selection import cross_val_score\n",
    "from sklearn.model_selection import KFold\n",
    "from sklearn.preprocessing import StandardScaler\n",
    "from sklearn.pipeline import Pipeline\n",
    "\n",
    "from sklearn import model_selection, tree, preprocessing, metrics, linear_model\n",
    "\n",
    "from sklearn.linear_model import LinearRegression,Lasso,Ridge\n",
    "from sklearn.tree import DecisionTreeRegressor\n",
    "from sklearn.neighbors import KNeighborsRegressor\n",
    "from sklearn.ensemble import GradientBoostingRegressor,RandomForestRegressor\n",
    "from sklearn.svm import SVR"
   ]
  },
  {
   "cell_type": "markdown",
   "metadata": {},
   "source": [
    "### Building the Pipeline\n",
    "\n",
    "The first step in building the pipeline is to define each transformer type. The convention here is generally to create transformers for the different variable types. In the code below I have created a numeric transformer which applies a StandardScaler, and includes a SimpleImputer to fill in any missing values.\n",
    "\n",
    "We are building a basic pipeline with two steps,\n",
    "\n",
    "* Normalize numerical features with StandardScaler()\n",
    "* Run the Regressor\n",
    "\n",
    "\n",
    "Trying out the following classification algorithms\n",
    "\n",
    "* Linear Regression\n",
    "* Lasso\n",
    "* Ridge\n",
    "* K-nearest Regressor\n",
    "* Decision Tree Regressor\n",
    "* Random Forest Regressor\n",
    "* Gradient Boosting Regressor\n",
    "* SVR"
   ]
  },
  {
   "cell_type": "code",
   "execution_count": 151,
   "metadata": {
    "scrolled": false
   },
   "outputs": [
    {
     "name": "stdout",
     "output_type": "stream",
     "text": [
      "ScaledLR: -52140.727594 (60534.722991)\n",
      "ScaledLASSO: -52300.021694 (61374.444830)\n",
      "ScaledRIDGE: -52140.668212 (60536.504615)\n",
      "ScaledKNN: -27141.378316 (25846.014502)\n",
      "ScaledDT: -70480.743114 (91620.440980)\n",
      "ScaledGBM: -25430.398668 (30774.024480)\n",
      "ScaledRF: -33212.847667 (45282.841672)\n",
      "ScaledSVR: -57239.004607 (90131.605100)\n"
     ]
    }
   ],
   "source": [
    "pipelines = []\n",
    "pipelines.append(('ScaledLR', Pipeline([('Scaler', StandardScaler()),('LR',LinearRegression())])))\n",
    "pipelines.append(('ScaledLASSO', Pipeline([('Scaler', StandardScaler()),('LASSO', Lasso())])))\n",
    "pipelines.append(('ScaledRIDGE', Pipeline([('Scaler', StandardScaler()),('RIDGE',Ridge())])))\n",
    "pipelines.append(('ScaledKNN', Pipeline([('Scaler', StandardScaler()),('KNN', KNeighborsRegressor())])))\n",
    "pipelines.append(('ScaledDT', Pipeline([('Scaler', StandardScaler()),('DT', DecisionTreeRegressor())])))\n",
    "pipelines.append(('ScaledGBM', Pipeline([('Scaler', StandardScaler()),('GBM', GradientBoostingRegressor())])))\n",
    "pipelines.append(('ScaledRF', Pipeline([('Scaler', StandardScaler()),('RF',RandomForestRegressor())])))\n",
    "pipelines.append(('ScaledSVR', Pipeline([('Scaler', StandardScaler()),('SVR',SVR())])))\n",
    "\n",
    "\n",
    "\n",
    "results = []\n",
    "names = []\n",
    "for name, model in pipelines:\n",
    "    kfold = KFold(n_splits=10, random_state=21)\n",
    "    cv_results = cross_val_score(model, X_train, y_train, cv=kfold, scoring='neg_mean_squared_error')\n",
    "    results.append(cv_results)\n",
    "    names.append(name)\n",
    "    msg = \"%s: %f (%f)\" % (name, cv_results.mean(), cv_results.std())\n",
    "    print(msg)"
   ]
  },
  {
   "cell_type": "code",
   "execution_count": 132,
   "metadata": {},
   "outputs": [
    {
     "name": "stdout",
     "output_type": "stream",
     "text": [
      "-11378.231156 (6610.229692) with: {'bootstrap': True, 'max_features': 'auto', 'min_samples_split': 2, 'n_estimators': 100}\n",
      "-11107.911354 (6871.695184) with: {'bootstrap': True, 'max_features': 'auto', 'min_samples_split': 2, 'n_estimators': 200}\n",
      "-11070.479589 (6823.931898) with: {'bootstrap': True, 'max_features': 'auto', 'min_samples_split': 2, 'n_estimators': 300}\n",
      "-11757.570308 (7119.679077) with: {'bootstrap': True, 'max_features': 'auto', 'min_samples_split': 4, 'n_estimators': 100}\n",
      "-11653.465471 (6727.917089) with: {'bootstrap': True, 'max_features': 'auto', 'min_samples_split': 4, 'n_estimators': 200}\n",
      "-11930.677601 (6915.074954) with: {'bootstrap': True, 'max_features': 'auto', 'min_samples_split': 4, 'n_estimators': 300}\n",
      "-13565.979936 (7968.260410) with: {'bootstrap': True, 'max_features': 'auto', 'min_samples_split': 8, 'n_estimators': 100}\n",
      "-13516.233285 (7978.677185) with: {'bootstrap': True, 'max_features': 'auto', 'min_samples_split': 8, 'n_estimators': 200}\n",
      "-13568.782634 (7810.855452) with: {'bootstrap': True, 'max_features': 'auto', 'min_samples_split': 8, 'n_estimators': 300}\n",
      "-10496.442364 (7179.599108) with: {'bootstrap': True, 'max_features': 'sqrt', 'min_samples_split': 2, 'n_estimators': 100}\n",
      "-10794.278839 (7237.734881) with: {'bootstrap': True, 'max_features': 'sqrt', 'min_samples_split': 2, 'n_estimators': 200}\n",
      "-10644.967565 (7185.163273) with: {'bootstrap': True, 'max_features': 'sqrt', 'min_samples_split': 2, 'n_estimators': 300}\n",
      "-11592.821959 (7614.742622) with: {'bootstrap': True, 'max_features': 'sqrt', 'min_samples_split': 4, 'n_estimators': 100}\n",
      "-11598.914880 (7509.876891) with: {'bootstrap': True, 'max_features': 'sqrt', 'min_samples_split': 4, 'n_estimators': 200}\n",
      "-11392.833410 (7515.150463) with: {'bootstrap': True, 'max_features': 'sqrt', 'min_samples_split': 4, 'n_estimators': 300}\n",
      "-12528.379574 (7783.374176) with: {'bootstrap': True, 'max_features': 'sqrt', 'min_samples_split': 8, 'n_estimators': 100}\n",
      "-12681.453689 (7920.370284) with: {'bootstrap': True, 'max_features': 'sqrt', 'min_samples_split': 8, 'n_estimators': 200}\n",
      "-12563.777963 (7846.987572) with: {'bootstrap': True, 'max_features': 'sqrt', 'min_samples_split': 8, 'n_estimators': 300}\n",
      "-10627.435351 (7125.545973) with: {'bootstrap': True, 'max_features': 'log2', 'min_samples_split': 2, 'n_estimators': 100}\n",
      "-10915.613291 (7328.023732) with: {'bootstrap': True, 'max_features': 'log2', 'min_samples_split': 2, 'n_estimators': 200}\n",
      "-10715.864021 (7339.468390) with: {'bootstrap': True, 'max_features': 'log2', 'min_samples_split': 2, 'n_estimators': 300}\n",
      "-11364.102113 (7445.026233) with: {'bootstrap': True, 'max_features': 'log2', 'min_samples_split': 4, 'n_estimators': 100}\n",
      "-11676.789403 (7675.685498) with: {'bootstrap': True, 'max_features': 'log2', 'min_samples_split': 4, 'n_estimators': 200}\n",
      "-11405.071808 (7488.243576) with: {'bootstrap': True, 'max_features': 'log2', 'min_samples_split': 4, 'n_estimators': 300}\n",
      "-12624.562615 (8043.825093) with: {'bootstrap': True, 'max_features': 'log2', 'min_samples_split': 8, 'n_estimators': 100}\n",
      "-12606.079394 (8012.842282) with: {'bootstrap': True, 'max_features': 'log2', 'min_samples_split': 8, 'n_estimators': 200}\n",
      "-12524.272808 (8063.303031) with: {'bootstrap': True, 'max_features': 'log2', 'min_samples_split': 8, 'n_estimators': 300}\n",
      "-16203.506953 (7410.332503) with: {'bootstrap': False, 'max_features': 'auto', 'min_samples_split': 2, 'n_estimators': 100}\n",
      "-16094.751673 (7569.122775) with: {'bootstrap': False, 'max_features': 'auto', 'min_samples_split': 2, 'n_estimators': 200}\n",
      "-16234.879375 (7460.419234) with: {'bootstrap': False, 'max_features': 'auto', 'min_samples_split': 2, 'n_estimators': 300}\n",
      "-16690.304474 (6454.351969) with: {'bootstrap': False, 'max_features': 'auto', 'min_samples_split': 4, 'n_estimators': 100}\n",
      "-16747.368583 (6484.551031) with: {'bootstrap': False, 'max_features': 'auto', 'min_samples_split': 4, 'n_estimators': 200}\n",
      "-16644.492967 (6451.791619) with: {'bootstrap': False, 'max_features': 'auto', 'min_samples_split': 4, 'n_estimators': 300}\n",
      "-17643.956401 (6487.761540) with: {'bootstrap': False, 'max_features': 'auto', 'min_samples_split': 8, 'n_estimators': 100}\n",
      "-17657.613238 (6454.077699) with: {'bootstrap': False, 'max_features': 'auto', 'min_samples_split': 8, 'n_estimators': 200}\n",
      "-17578.102106 (6559.057557) with: {'bootstrap': False, 'max_features': 'auto', 'min_samples_split': 8, 'n_estimators': 300}\n",
      "-10253.674968 (7279.207999) with: {'bootstrap': False, 'max_features': 'sqrt', 'min_samples_split': 2, 'n_estimators': 100}\n",
      "-9980.312454 (6825.503563) with: {'bootstrap': False, 'max_features': 'sqrt', 'min_samples_split': 2, 'n_estimators': 200}\n",
      "-9916.578223 (6985.817275) with: {'bootstrap': False, 'max_features': 'sqrt', 'min_samples_split': 2, 'n_estimators': 300}\n",
      "-10277.052574 (7230.156690) with: {'bootstrap': False, 'max_features': 'sqrt', 'min_samples_split': 4, 'n_estimators': 100}\n",
      "-10389.562657 (7174.330324) with: {'bootstrap': False, 'max_features': 'sqrt', 'min_samples_split': 4, 'n_estimators': 200}\n",
      "-10235.948152 (6942.422898) with: {'bootstrap': False, 'max_features': 'sqrt', 'min_samples_split': 4, 'n_estimators': 300}\n",
      "-11354.614745 (7363.006287) with: {'bootstrap': False, 'max_features': 'sqrt', 'min_samples_split': 8, 'n_estimators': 100}\n",
      "-11151.907963 (7368.377166) with: {'bootstrap': False, 'max_features': 'sqrt', 'min_samples_split': 8, 'n_estimators': 200}\n",
      "-11144.320759 (7333.695636) with: {'bootstrap': False, 'max_features': 'sqrt', 'min_samples_split': 8, 'n_estimators': 300}\n",
      "-10153.607347 (7166.185199) with: {'bootstrap': False, 'max_features': 'log2', 'min_samples_split': 2, 'n_estimators': 100}\n",
      "-10144.477361 (7174.847285) with: {'bootstrap': False, 'max_features': 'log2', 'min_samples_split': 2, 'n_estimators': 200}\n",
      "-9885.161421 (6801.914470) with: {'bootstrap': False, 'max_features': 'log2', 'min_samples_split': 2, 'n_estimators': 300}\n",
      "-10332.937528 (7083.735401) with: {'bootstrap': False, 'max_features': 'log2', 'min_samples_split': 4, 'n_estimators': 100}\n",
      "-10287.623392 (7056.034332) with: {'bootstrap': False, 'max_features': 'log2', 'min_samples_split': 4, 'n_estimators': 200}\n",
      "-10314.847072 (7063.068568) with: {'bootstrap': False, 'max_features': 'log2', 'min_samples_split': 4, 'n_estimators': 300}\n",
      "-11209.335595 (7164.090713) with: {'bootstrap': False, 'max_features': 'log2', 'min_samples_split': 8, 'n_estimators': 100}\n",
      "-11334.875128 (7490.825523) with: {'bootstrap': False, 'max_features': 'log2', 'min_samples_split': 8, 'n_estimators': 200}\n",
      "-11261.424943 (7420.368636) with: {'bootstrap': False, 'max_features': 'log2', 'min_samples_split': 8, 'n_estimators': 300}\n",
      "Best: -9885.161421 using {'bootstrap': False, 'max_features': 'log2', 'min_samples_split': 2, 'n_estimators': 300}\n"
     ]
    }
   ],
   "source": [
    "# from sklearn.model_selection import GridSearchCV\n",
    "\n",
    "# scaler = StandardScaler().fit(X_train)\n",
    "# rescaledX = scaler.transform(X_train)\n",
    "# param_grid = { \n",
    "#             \"n_estimators\"      : [100,200,300],\n",
    "#             \"max_features\"      : [\"auto\", \"sqrt\", \"log2\"],\n",
    "#             \"min_samples_split\" : [2,4,8],\n",
    "#             \"bootstrap\": [True, False],\n",
    "#             }\n",
    "# model =RandomForestRegressor()\n",
    "# kfold =KFold(n_splits=10, random_state=21,shuffle=True)\n",
    "# grid = GridSearchCV(estimator=model, param_grid=param_grid,n_jobs=-1, scoring='neg_mean_squared_error', cv=kfold)\n",
    "# grid_result = grid.fit(rescaledX, y_train)\n",
    "\n",
    "# means = grid_result.cv_results_['mean_test_score']\n",
    "# stds = grid_result.cv_results_['std_test_score']\n",
    "# params = grid_result.cv_results_['params']\n",
    "# for mean, stdev, param in zip(means, stds, params):\n",
    "#     print(\"%f (%f) with: %r\" % (mean, stdev, param))\n",
    "\n",
    "# print(\"Best: %f using %s\" % (grid_result.best_score_, grid_result.best_params_))"
   ]
  },
  {
   "cell_type": "code",
   "execution_count": 152,
   "metadata": {},
   "outputs": [
    {
     "name": "stdout",
     "output_type": "stream",
     "text": [
      "-25458.748133 (31046.183769) with: {'max_features': 'auto', 'min_samples_split': 2, 'n_estimators': 100}\n",
      "-24236.390062 (28788.404719) with: {'max_features': 'auto', 'min_samples_split': 2, 'n_estimators': 200}\n",
      "-23405.980574 (26849.218517) with: {'max_features': 'auto', 'min_samples_split': 2, 'n_estimators': 300}\n",
      "-25489.603922 (30921.921842) with: {'max_features': 'auto', 'min_samples_split': 4, 'n_estimators': 100}\n",
      "-24236.417553 (29019.962891) with: {'max_features': 'auto', 'min_samples_split': 4, 'n_estimators': 200}\n",
      "-23511.727942 (26717.723903) with: {'max_features': 'auto', 'min_samples_split': 4, 'n_estimators': 300}\n",
      "-25663.231729 (31367.201674) with: {'max_features': 'auto', 'min_samples_split': 8, 'n_estimators': 100}\n",
      "-23855.628604 (28604.060581) with: {'max_features': 'auto', 'min_samples_split': 8, 'n_estimators': 200}\n",
      "-23260.898063 (27684.139346) with: {'max_features': 'auto', 'min_samples_split': 8, 'n_estimators': 300}\n",
      "-25777.591492 (30790.730797) with: {'max_features': 'sqrt', 'min_samples_split': 2, 'n_estimators': 100}\n",
      "-25167.005231 (30760.959102) with: {'max_features': 'sqrt', 'min_samples_split': 2, 'n_estimators': 200}\n",
      "-24121.282983 (28875.914968) with: {'max_features': 'sqrt', 'min_samples_split': 2, 'n_estimators': 300}\n",
      "-26525.826154 (32205.693688) with: {'max_features': 'sqrt', 'min_samples_split': 4, 'n_estimators': 100}\n",
      "-25097.798726 (30704.680764) with: {'max_features': 'sqrt', 'min_samples_split': 4, 'n_estimators': 200}\n",
      "-23533.558932 (27925.995961) with: {'max_features': 'sqrt', 'min_samples_split': 4, 'n_estimators': 300}\n",
      "-26405.094185 (31590.816985) with: {'max_features': 'sqrt', 'min_samples_split': 8, 'n_estimators': 100}\n",
      "-24913.696940 (29946.688962) with: {'max_features': 'sqrt', 'min_samples_split': 8, 'n_estimators': 200}\n",
      "-23916.081471 (28942.096005) with: {'max_features': 'sqrt', 'min_samples_split': 8, 'n_estimators': 300}\n",
      "-26209.532523 (31979.149170) with: {'max_features': 'log2', 'min_samples_split': 2, 'n_estimators': 100}\n",
      "-24857.542708 (29865.577995) with: {'max_features': 'log2', 'min_samples_split': 2, 'n_estimators': 200}\n",
      "-23658.175842 (28434.615628) with: {'max_features': 'log2', 'min_samples_split': 2, 'n_estimators': 300}\n",
      "-26409.745426 (31501.435916) with: {'max_features': 'log2', 'min_samples_split': 4, 'n_estimators': 100}\n",
      "-25395.817889 (31698.389034) with: {'max_features': 'log2', 'min_samples_split': 4, 'n_estimators': 200}\n",
      "-23746.312754 (27709.107563) with: {'max_features': 'log2', 'min_samples_split': 4, 'n_estimators': 300}\n",
      "-27179.319463 (33882.560675) with: {'max_features': 'log2', 'min_samples_split': 8, 'n_estimators': 100}\n",
      "-24870.488646 (30079.787421) with: {'max_features': 'log2', 'min_samples_split': 8, 'n_estimators': 200}\n",
      "-24080.037475 (28778.872117) with: {'max_features': 'log2', 'min_samples_split': 8, 'n_estimators': 300}\n"
     ]
    }
   ],
   "source": [
    "from sklearn.model_selection import GridSearchCV\n",
    "\n",
    "scaler = StandardScaler().fit(X_train)\n",
    "rescaledX = scaler.transform(X_train)\n",
    "param_grid = { \n",
    "            \"n_estimators\"      : [100,200,300],\n",
    "            \"max_features\"      : [\"auto\", \"sqrt\", \"log2\"],\n",
    "            \"min_samples_split\" : [2,4,8],\n",
    "            }\n",
    "model =GradientBoostingRegressor()\n",
    "kfold =KFold(n_splits=10, random_state=21)\n",
    "grid = GridSearchCV(estimator=model, param_grid=param_grid,n_jobs=-1, scoring='neg_mean_squared_error', cv=kfold)\n",
    "grid_result = grid.fit(rescaledX, y_train)\n",
    "\n",
    "means = grid_result.cv_results_['mean_test_score']\n",
    "stds = grid_result.cv_results_['std_test_score']\n",
    "params = grid_result.cv_results_['params']\n",
    "for mean, stdev, param in zip(means, stds, params):\n",
    "    print(\"%f (%f) with: %r\" % (mean, stdev, param))"
   ]
  },
  {
   "cell_type": "code",
   "execution_count": 139,
   "metadata": {},
   "outputs": [
    {
     "data": {
      "text/plain": [
       "GradientBoostingRegressor(alpha=0.9, ccp_alpha=0.0, criterion='friedman_mse',\n",
       "                          init=None, learning_rate=0.1, loss='ls', max_depth=3,\n",
       "                          max_features='auto', max_leaf_nodes=None,\n",
       "                          min_impurity_decrease=0.0, min_impurity_split=None,\n",
       "                          min_samples_leaf=1, min_samples_split=2,\n",
       "                          min_weight_fraction_leaf=0.0, n_estimators=300,\n",
       "                          n_iter_no_change=None, presort='deprecated',\n",
       "                          random_state=None, subsample=1.0, tol=0.0001,\n",
       "                          validation_fraction=0.1, verbose=0, warm_start=False)"
      ]
     },
     "execution_count": 139,
     "metadata": {},
     "output_type": "execute_result"
    }
   ],
   "source": [
    "grid_result.best_estimator_"
   ]
  },
  {
   "cell_type": "code",
   "execution_count": 153,
   "metadata": {},
   "outputs": [],
   "source": [
    "scaler = StandardScaler().fit(X_train)\n",
    "rescaled_X_train = scaler.transform(X_train)\n",
    "\n",
    "fin_model = GradientBoostingRegressor(alpha=0.9, ccp_alpha=0.0, criterion='friedman_mse',\n",
    "                          init=None, learning_rate=0.1, loss='ls', max_depth=3,\n",
    "                          max_features='auto', max_leaf_nodes=None,\n",
    "                          min_impurity_decrease=0.0, min_impurity_split=None,\n",
    "                          min_samples_leaf=1, min_samples_split=2,\n",
    "                          min_weight_fraction_leaf=0.0, n_estimators=300,\n",
    "                          n_iter_no_change=None, presort='deprecated',\n",
    "                          random_state=None, subsample=1.0, tol=0.0001,\n",
    "                          validation_fraction=0.1, verbose=0, warm_start=False)\n",
    "\n",
    "fin_model.fit(rescaled_X_train, y_train)\n",
    "\n",
    "# transform the validation dataset\n",
    "rescaled_X_test = scaler.transform(X_test)\n",
    "predictions = fin_model.predict(rescaled_X_test)"
   ]
  },
  {
   "cell_type": "code",
   "execution_count": 154,
   "metadata": {},
   "outputs": [
    {
     "data": {
      "text/html": [
       "<div>\n",
       "<style scoped>\n",
       "    .dataframe tbody tr th:only-of-type {\n",
       "        vertical-align: middle;\n",
       "    }\n",
       "\n",
       "    .dataframe tbody tr th {\n",
       "        vertical-align: top;\n",
       "    }\n",
       "\n",
       "    .dataframe thead th {\n",
       "        text-align: right;\n",
       "    }\n",
       "</style>\n",
       "<table border=\"1\" class=\"dataframe\">\n",
       "  <thead>\n",
       "    <tr style=\"text-align: right;\">\n",
       "      <th></th>\n",
       "      <th>gift_id</th>\n",
       "      <th>price</th>\n",
       "    </tr>\n",
       "  </thead>\n",
       "  <tbody>\n",
       "    <tr>\n",
       "      <th>0</th>\n",
       "      <td>GF_2372</td>\n",
       "      <td>141.334153</td>\n",
       "    </tr>\n",
       "    <tr>\n",
       "      <th>1</th>\n",
       "      <td>GF_13040</td>\n",
       "      <td>100.121828</td>\n",
       "    </tr>\n",
       "    <tr>\n",
       "      <th>2</th>\n",
       "      <td>GF_5754</td>\n",
       "      <td>139.054503</td>\n",
       "    </tr>\n",
       "    <tr>\n",
       "      <th>3</th>\n",
       "      <td>GF_1417</td>\n",
       "      <td>83.203672</td>\n",
       "    </tr>\n",
       "    <tr>\n",
       "      <th>4</th>\n",
       "      <td>GF_23204</td>\n",
       "      <td>141.334153</td>\n",
       "    </tr>\n",
       "  </tbody>\n",
       "</table>\n",
       "</div>"
      ],
      "text/plain": [
       "    gift_id       price\n",
       "0   GF_2372  141.334153\n",
       "1  GF_13040  100.121828\n",
       "2   GF_5754  139.054503\n",
       "3   GF_1417   83.203672\n",
       "4  GF_23204  141.334153"
      ]
     },
     "execution_count": 154,
     "metadata": {},
     "output_type": "execute_result"
    }
   ],
   "source": [
    "# Create a submisison dataframe and append the relevant columns\n",
    "submission = pd.DataFrame()\n",
    "submission['gift_id']=test['gift_id']\n",
    "submission['price'] = predictions # our model predictions on the test dataset\n",
    "submission.head()"
   ]
  },
  {
   "cell_type": "code",
   "execution_count": 155,
   "metadata": {},
   "outputs": [
    {
     "name": "stdout",
     "output_type": "stream",
     "text": [
      "Submission CSV is ready!\n"
     ]
    }
   ],
   "source": [
    "# Convert submisison dataframe to csv for submission to csv \n",
    "# for HackerEarth submisison\n",
    "submission.to_csv('../gb1_submission.csv', index=False)\n",
    "print('Submission CSV is ready!')"
   ]
  },
  {
   "cell_type": "markdown",
   "metadata": {},
   "source": [
    "## Feature Importance\n",
    "\n",
    "Which features of the best model were most important for making predictions?"
   ]
  },
  {
   "cell_type": "code",
   "execution_count": 156,
   "metadata": {},
   "outputs": [
    {
     "data": {
      "image/png": "[encoded data removed]",
      "text/plain": [
       "<Figure size 1440x720 with 1 Axes>"
      ]
     },
     "metadata": {},
     "output_type": "display_data"
    }
   ],
   "source": [
    "#Feature Importance\n",
    "def feature_importance(model, data):\n",
    "    \n",
    "    fea_imp = pd.DataFrame({'imp': fin_model.feature_importances_, 'col': data.columns})\n",
    "    fea_imp = fea_imp.sort_values(['imp', 'col'], ascending=[True,False]).iloc[-30:]\n",
    "    _ = fea_imp.plot(kind='barh', x='col', y='imp', figsize=(20, 10))\n",
    "    return fea_imp\n",
    "\n",
    "# Plot the feature importance scores\n",
    "feature_importances = feature_importance(model, X_train)"
   ]
  },
  {
   "cell_type": "markdown",
   "metadata": {},
   "source": [
    "#### Why would you want feature importance?\n",
    "\n",
    "Featrue importance shows how much each feature contributed to the model.\n",
    "\n",
    "You could take this information and remove features which don't contribute much to reduce dimenstionality (and save compute).\n",
    "\n",
    "You could improve features which don't offer much to the overall model.\n",
    "\n",
    "Or you could improve features which offer more to the model. In this case, there aren't many ways you could improve sex as it's already a binary.\n",
    "\n",
    "Feature importance figures also show people who may not be familiar with the problem what features of their data are most important when it comes to making predictions with machine learning models."
   ]
  },
  {
   "cell_type": "code",
   "execution_count": 157,
   "metadata": {
    "scrolled": false
   },
   "outputs": [],
   "source": [
    "feature_importances = feature_importances.sort_values(['imp'],ascending=False)"
   ]
  },
  {
   "cell_type": "code",
   "execution_count": 158,
   "metadata": {},
   "outputs": [
    {
     "data": {
      "image/png": "[encoded data removed]",
      "text/plain": [
       "<Figure size 1440x720 with 1 Axes>"
      ]
     },
     "metadata": {},
     "output_type": "display_data"
    }
   ],
   "source": [
    "# list of x locations for plotting\n",
    "x_values = list(range(len(feature_importances.imp)))# Make a bar chart\n",
    "fig = plt.figure(figsize=(20,10))\n",
    "plt.bar(x_values, feature_importances.imp, orientation = 'vertical', color = 'r', edgecolor = 'k', linewidth = 1.2)# Tick labels for x axis\n",
    "plt.xticks(x_values, feature_importances.col, rotation='vertical')# Axis labels and title\n",
    "plt.ylabel('Importance'); plt.xlabel('Variable'); plt.title('Variable Importances');"
   ]
  },
  {
   "cell_type": "markdown",
   "metadata": {},
   "source": [
    "Making a cumulative importance graph that shows the contribution to the overall importance of each additional variable. The dashed line is drawn at 90% of total importance accounted for."
   ]
  },
  {
   "cell_type": "code",
   "execution_count": 160,
   "metadata": {
    "scrolled": false
   },
   "outputs": [
    {
     "data": {
      "image/png": "[encoded data removed]",
      "text/plain": [
       "<Figure size 1440x720 with 1 Axes>"
      ]
     },
     "metadata": {},
     "output_type": "display_data"
    }
   ],
   "source": [
    "# List of features sorted from most to least important\n",
    "\n",
    "sorted_importances = [importance for importance in feature_importances.imp]\n",
    "\n",
    "sorted_features = [importance for importance in feature_importances.col]# Cumulative importances\n",
    "\n",
    "\n",
    "cumulative_importances = np.cumsum(sorted_importances)# Make a line graph\n",
    "fig = plt.figure(figsize=(20,10))\n",
    "plt.plot(x_values, cumulative_importances, 'g-')# Draw line at 90% of importance retained\n",
    "\n",
    "plt.hlines(y = 0.90, xmin=0, xmax=len(sorted_importances), color = 'r', linestyles = 'dashed')# Format x ticks and labels\n",
    "\n",
    "plt.xticks(x_values, sorted_features, rotation = 'vertical')# Axis labels and title\n",
    "\n",
    "plt.xlabel('Variable'); plt.ylabel('Cumulative Importance'); plt.title('Cumulative Importances');"
   ]
  },
  {
   "cell_type": "markdown",
   "metadata": {},
   "source": [
    "We now use this to remove unimportant features. 90% is an arbitrary threshold, but if it leads to noticeably poor performance we can adjust the value. First, we need to find the exact number of features to exceed 90% importance:"
   ]
  },
  {
   "cell_type": "code",
   "execution_count": 161,
   "metadata": {},
   "outputs": [
    {
     "name": "stdout",
     "output_type": "stream",
     "text": [
      "Number of features for 90% importance: 6\n"
     ]
    }
   ],
   "source": [
    "# Find number of features for cumulative importance of 90%\n",
    "# Add 1 because Python is zero-indexed\n",
    "print('Number of features for 90% importance:', np.where(cumulative_importances > 0.90)[0][0] + 1)"
   ]
  },
  {
   "cell_type": "code",
   "execution_count": 162,
   "metadata": {},
   "outputs": [
    {
     "name": "stdout",
     "output_type": "stream",
     "text": [
      "Important train features shape: (20279, 6)\n",
      "Important test features shape: (13519, 6)\n"
     ]
    }
   ],
   "source": [
    "# Extract the names of the most important features\n",
    "important_feature_names = [feature for feature in feature_importances.col[:6]]\n",
    "\n",
    "\n",
    "important_train_features = X_train[important_feature_names]\n",
    "important_test_features = X_test[important_feature_names]# Sanity check on operations\n",
    "print('Important train features shape:', important_train_features.shape)\n",
    "print('Important test features shape:', important_test_features.shape)"
   ]
  },
  {
   "cell_type": "code",
   "execution_count": 163,
   "metadata": {},
   "outputs": [],
   "source": [
    "# Train the expanded model on only the important features\n",
    "fin_model.fit(important_train_features, y_train)\n",
    "# Make predictions on test data\n",
    "final_predictions = fin_model.predict(important_test_features)"
   ]
  },
  {
   "cell_type": "code",
   "execution_count": 164,
   "metadata": {},
   "outputs": [
    {
     "data": {
      "text/html": [
       "<div>\n",
       "<style scoped>\n",
       "    .dataframe tbody tr th:only-of-type {\n",
       "        vertical-align: middle;\n",
       "    }\n",
       "\n",
       "    .dataframe tbody tr th {\n",
       "        vertical-align: top;\n",
       "    }\n",
       "\n",
       "    .dataframe thead th {\n",
       "        text-align: right;\n",
       "    }\n",
       "</style>\n",
       "<table border=\"1\" class=\"dataframe\">\n",
       "  <thead>\n",
       "    <tr style=\"text-align: right;\">\n",
       "      <th></th>\n",
       "      <th>gift_id</th>\n",
       "      <th>price</th>\n",
       "    </tr>\n",
       "  </thead>\n",
       "  <tbody>\n",
       "    <tr>\n",
       "      <th>0</th>\n",
       "      <td>GF_2372</td>\n",
       "      <td>141.334153</td>\n",
       "    </tr>\n",
       "    <tr>\n",
       "      <th>1</th>\n",
       "      <td>GF_13040</td>\n",
       "      <td>100.121828</td>\n",
       "    </tr>\n",
       "    <tr>\n",
       "      <th>2</th>\n",
       "      <td>GF_5754</td>\n",
       "      <td>139.054503</td>\n",
       "    </tr>\n",
       "    <tr>\n",
       "      <th>3</th>\n",
       "      <td>GF_1417</td>\n",
       "      <td>83.203672</td>\n",
       "    </tr>\n",
       "    <tr>\n",
       "      <th>4</th>\n",
       "      <td>GF_23204</td>\n",
       "      <td>141.334153</td>\n",
       "    </tr>\n",
       "  </tbody>\n",
       "</table>\n",
       "</div>"
      ],
      "text/plain": [
       "    gift_id       price\n",
       "0   GF_2372  141.334153\n",
       "1  GF_13040  100.121828\n",
       "2   GF_5754  139.054503\n",
       "3   GF_1417   83.203672\n",
       "4  GF_23204  141.334153"
      ]
     },
     "execution_count": 164,
     "metadata": {},
     "output_type": "execute_result"
    }
   ],
   "source": [
    "# Create a submisison dataframe and append the relevant columns\n",
    "final_submission = pd.DataFrame()\n",
    "final_submission['gift_id']=test['gift_id']\n",
    "final_submission['price'] = predictions # our model predictions on the test dataset\n",
    "final_submission.head()"
   ]
  },
  {
   "cell_type": "code",
   "execution_count": 165,
   "metadata": {},
   "outputs": [
    {
     "name": "stdout",
     "output_type": "stream",
     "text": [
      "Submission CSV is ready!\n"
     ]
    }
   ],
   "source": [
    "# Convert submisison dataframe to csv for submission to csv \n",
    "# for HackerEarth submisison\n",
    "final_submission.to_csv('../final_gb_submission.csv', index=False)\n",
    "print('Submission CSV is ready!')"
   ]
  },
  {
   "cell_type": "code",
   "execution_count": null,
   "metadata": {},
   "outputs": [],
   "source": []
  },
  {
   "cell_type": "code",
   "execution_count": null,
   "metadata": {},
   "outputs": [],
   "source": []
  },
  {
   "cell_type": "code",
   "execution_count": null,
   "metadata": {},
   "outputs": [],
   "source": []
  }
 ],
 "metadata": {
  "kernelspec": {
   "display_name": "Python 3",
   "language": "python",
   "name": "python3"
  },
  "language_info": {
   "codemirror_mode": {
    "name": "ipython",
    "version": 3
   },
   "file_extension": ".py",
   "mimetype": "text/x-python",
   "name": "python",
   "nbconvert_exporter": "python",
   "pygments_lexer": "ipython3",
   "version": "3.7.6"
  }
 },
 "nbformat": 4,
 "nbformat_minor": 4
}
